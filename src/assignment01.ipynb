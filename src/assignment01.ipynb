{
 "cells": [
  {
   "cell_type": "markdown",
   "metadata": {},
   "source": [
    "## Problem Description"
   ]
  },
  {
   "cell_type": "markdown",
   "metadata": {},
   "source": [
    "<p align=\"justify\">An and Binh play a game consisting of multiple rounds. The first player to reach 10 points wins the game. Each round has only one winner. Assume that the rounds are independent and that An has a 0.6 probability of winning each round.</p>\n",
    "\n",
    "<ul>\n",
    "    <li>Calculate the probability that An wins the game if the winner of each round earns 2 points.</li>\n",
    "    <li>Same as (a), but if the winner also won the previous round, they earn an additional 1 point.</li>\n",
    "    <li>Calculate the expected number of rounds required for An to win in cases (a) and (b).</li>\n",
    "</ul>"
   ]
  },
  {
   "cell_type": "markdown",
   "metadata": {},
   "source": [
    "## Import neccessary python modules"
   ]
  },
  {
   "cell_type": "code",
   "execution_count": 2,
   "metadata": {},
   "outputs": [],
   "source": [
    "import random # Import the random module to generate random numbers"
   ]
  },
  {
   "cell_type": "markdown",
   "metadata": {},
   "source": [
    "## Solution"
   ]
  },
  {
   "cell_type": "markdown",
   "metadata": {},
   "source": [
    "### `(a) Calculate the probability that An wins the game if the winner of each round earns 2 points.`"
   ]
  },
  {
   "cell_type": "markdown",
   "metadata": {},
   "source": [
    "#### <div align=\"center\"><strong>Pure math method</strong></div>\n",
    "<hr>"
   ]
  },
  {
   "cell_type": "markdown",
   "metadata": {},
   "source": [
    "<div align=\"center\"><strong>Conditions for An to win</strong></div>\n",
    "\n",
    "The game ends when a player wins **5 games** against his opponent. Therefore, An wins the game if:\n",
    "1. An wins **exactly 5 games**.\n",
    "2. An's **5th winning game** is the game that ends the game.\n",
    "3. The game ends at **$k$**th game with $k \\geq 5$, that is, An wins the $k$ game, and in the first $k-1$ games, An wins 4 games and Binh wins the remaining games.\n",
    "\n",
    "Therefore, the number of games that the game can end in is between $k = 5, 6, 7, 8, 9$ (maximum 9 games can occur).\n",
    "\n",
    "<div align=\"center\"><strong>Probability expression</strong></div>\n",
    "\n",
    "The probability that An wins the game is calculated by the sum of all possible cases:\n",
    "\n",
    "$$\n",
    "P(\\text{An wins}) = \\sum_{k=5}^{9} P_k\n",
    "$$\n",
    "\n",
    "Where, $ P_k $ is the probability that the game ends in the $ k $th game and An wins. This means that:\n",
    "- An wins **the k th game**.\n",
    "- An has won **4 games in the first $ k-1 $ games**.\n",
    "- Binh wins the remaining games in the first $ k-1 $ games.\n",
    "\n",
    "Therefore:\n",
    "\n",
    "$$\n",
    "P_k = \\binom{k-1}{4} (0.6)^5 (0.4)^{k-5}\n",
    "$$\n",
    "\n",
    "So the required result is:\n",
    "\n",
    "$$\n",
    "P(\\text{An thang}) = \\sum_{k=5}^{9} \\binom{k-1}{4} (0.6)^5 (0.4)^{k-5} \\approx 0.7334323199999999\n",
    "$$"
   ]
  },
  {
   "cell_type": "markdown",
   "metadata": {},
   "source": [
    "#### <div align=\"center\"><strong>Simulation method</strong></div>\n",
    "<hr>"
   ]
  },
  {
   "cell_type": "code",
   "execution_count": 3,
   "metadata": {},
   "outputs": [
    {
     "name": "stdout",
     "output_type": "stream",
     "text": [
      "The probability that An wins the game if the winner of each round earns 2 points: 0.73236\n"
     ]
    }
   ],
   "source": [
    "def simulate_game(prob_win=0.6, points_to_win=10):\n",
    "    an_points, binh_points = 0, 0\n",
    "    rounds = 0\n",
    "    \n",
    "    while an_points < points_to_win and binh_points < points_to_win:\n",
    "        rounds += 1\n",
    "        if random.random() < prob_win:\n",
    "            an_points += 2\n",
    "        else:\n",
    "            binh_points += 2\n",
    "\n",
    "    return rounds, an_points >= points_to_win\n",
    "\n",
    "def estimate_probability(num_simulations=100000):\n",
    "    wins = sum(simulate_game()[1] for _ in range(num_simulations))\n",
    "    return wins / num_simulations\n",
    "\n",
    "prob_a = estimate_probability()\n",
    "\n",
    "print(\"The probability that An wins the game if the winner of each round earns 2 points:\", prob_a)"
   ]
  },
  {
   "cell_type": "markdown",
   "metadata": {},
   "source": [
    "#### <div align=\"center\"><strong>Conclusion</strong></div>\n",
    "<hr>"
   ]
  },
  {
   "cell_type": "code",
   "execution_count": 4,
   "metadata": {},
   "outputs": [
    {
     "name": "stdout",
     "output_type": "stream",
     "text": [
      "The theoretical value is:  0.7334323199999999\n",
      "The estimated value is:  0.73236\n",
      "The difference between the theoretical and estimated value is:  0.0010723199999999045\n"
     ]
    }
   ],
   "source": [
    "print('The theoretical value is: ',0.7334323199999999)\n",
    "print('The estimated value is: ',prob_a)\n",
    "print('The difference between the theoretical and estimated value is: ', abs(0.7334323199999999-prob_a))"
   ]
  },
  {
   "cell_type": "markdown",
   "metadata": {},
   "source": [
    "### `Same as (a), but if the winner also won the previous round, they earn an additional 1 point.`"
   ]
  },
  {
   "cell_type": "markdown",
   "metadata": {},
   "source": [
    "#### <div align=\"center\"><strong>Pure math method</strong></div>\n",
    "<hr>"
   ]
  },
  {
   "cell_type": "markdown",
   "metadata": {},
   "source": [
    "<div align=\"center\"><strong>Problem Analysis</strong></div>\n",
    "\n",
    "We have a game between An and Binh, with the following rules:\n",
    "\n",
    "- If one wins consecutively, they get 3 points.\n",
    "\n",
    "- If they don't win consecutively, they get 2 points.\n",
    "\n",
    "- The game ends when one of them reaches 10 points.\n",
    "\n",
    "- The probability of An winning a game is $ p $, and Binh is $ q = 1 - p $.\n",
    "\n",
    "<div align=\"center\"><strong>Variables used</strong></div>\n",
    "\n",
    "Calculate the probability that An wins from state $(a, b, L)$ with:\n",
    "\n",
    "- $ a $: An's current score.\n",
    "\n",
    "- $ b $: Binh's current score.\n",
    "\n",
    "- $ L $: Winner of the previous game (`None`, `'A'`, `'B'`).\n",
    "\n",
    "<div align=\"center\"><strong>State Table</strong></div>\n",
    "\n",
    "We create a table $ dp[a][b][L] $, where:\n",
    "\n",
    "- $ dp[a][b]['A'] $: Probability of An winning when the score is $ a, b $ and An won the previous game.\n",
    "\n",
    "- $ dp[a][b]['B'] $: Probability of An winning when the score is $ a, b $ and Binh won the previous game.\n",
    "\n",
    "- $ dp[a][b][None] $: Probability of An winning when no game has been played.\n",
    "\n",
    "<div align=\"center\"><strong>Basic conditions</strong></div>\n",
    "\n",
    "- If An scores at least 10 points, the probability of winning is 1:\n",
    "\n",
    "$$ dp[a][b][L] = 1 \\quad \\text{if } a \\geq 10 $$\n",
    "- If Binh scores at least 10 points, the probability of An winning is 0:\n",
    "\n",
    "$$ dp[a][b][L] = 0 \\quad \\text{if } b \\geq 10 $$\n",
    "\n",
    "<div align=\"center\"><strong>State transition formula</strong></div>\n",
    "\n",
    "- **If An wins this game:**\n",
    "- If An also wins the previous game ($ L = 'A' $), An receives 3 points → $ a' = a + 3 $.\n",
    "- If An does not win the previous game ($ L \\neq 'A' $), An receives 2 points → $ a' = a + 2 $.\n",
    "\n",
    "- Update probability:\n",
    "\n",
    "$$ dp[a][b][L] = p \\cdot dp[a', b]['A'] $$\n",
    "\n",
    "- **If Binh wins this game:**\n",
    "\n",
    "- If Binh also wins the previous game ($ L = 'B' $), Binh receives 3 points → $ b' = b + 3 $.\n",
    "\n",
    "- If Binh does not win the previous game ($ L \\neq 'B' $), Binh receives 2 points → $ b' = b + 2 $.\n",
    "\n",
    "- Update probability:\n",
    "\n",
    "$$ dp[a][b][L] += q \\cdot dp[a, b']['B'] $$\n",
    "\n",
    "<div align=\"center\"><strong>General formula</strong></div>\n",
    "\n",
    "$$ dp[a][b][L] = p \\cdot dp[a', b]['A'] + q \\cdot dp[a, b']['B'] $$"
   ]
  },
  {
   "cell_type": "code",
   "execution_count": 5,
   "metadata": {},
   "outputs": [
    {
     "name": "stdout",
     "output_type": "stream",
     "text": [
      "Probability of An winning: 0.7188341759999999\n"
     ]
    }
   ],
   "source": [
    "# Simulation code for Dynamic Programming method\n",
    "\n",
    "def calculate_probability(p):\n",
    "    q = 1 - p\n",
    "    max_score = 10\n",
    "    \n",
    "    dp = {L: [[0] * (max_score + 1) for _ in range(max_score + 1)] for L in [None, 'A', 'B']}\n",
    "\n",
    "    for L in [None, 'A', 'B']:\n",
    "        for b in range(max_score + 1):\n",
    "            dp[L][10][b] = 1\n",
    "    \n",
    "        for a in range(max_score + 1):\n",
    "            dp[L][a][10] = 0\n",
    "    \n",
    "    for a in range(max_score - 1, -1, -1):\n",
    "        for b in range(max_score - 1, -1, -1):\n",
    "            for L in [None, 'A', 'B']:\n",
    "                a_next = a + (3 if L == 'A' else 2)\n",
    "                if a_next >= max_score:\n",
    "                    win_A = 1\n",
    "                else:\n",
    "                    win_A = dp['A'][a_next][b]\n",
    "\n",
    "                b_next = b + (3 if L == 'B' else 2)\n",
    "                if b_next >= max_score:\n",
    "                    win_B = 0\n",
    "                else:\n",
    "                    win_B = dp['B'][a][b_next]\n",
    "\n",
    "                dp[L][a][b] = p * win_A + q * win_B\n",
    "\n",
    "    return dp[None][0][0]\n",
    "\n",
    "p = 0.6\n",
    "theoretical_prob_b = calculate_probability(p)\n",
    "\n",
    "print(\"Probability of An winning:\", theoretical_prob_b)"
   ]
  },
  {
   "cell_type": "markdown",
   "metadata": {},
   "source": [
    "#### <div align=\"center\"><strong>Simulation method</strong></div>\n",
    "<hr>"
   ]
  },
  {
   "cell_type": "code",
   "execution_count": 6,
   "metadata": {},
   "outputs": [
    {
     "name": "stdout",
     "output_type": "stream",
     "text": [
      "Probability of An winning: 0.71888\n"
     ]
    }
   ],
   "source": [
    "def simulate_game_bonus(prob_win=0.6, points_to_win=10):\n",
    "    an_points, binh_points = 0, 0\n",
    "    last_winner = None\n",
    "    rounds = 0\n",
    "\n",
    "    while an_points < points_to_win and binh_points < points_to_win:\n",
    "        rounds += 1\n",
    "        if random.random() < prob_win:\n",
    "            an_points += 2\n",
    "            if last_winner == \"An\":\n",
    "                an_points += 1\n",
    "            last_winner = \"An\"\n",
    "        else:\n",
    "            binh_points += 2\n",
    "            if last_winner == \"Binh\":\n",
    "                binh_points += 1\n",
    "            last_winner = \"Binh\"\n",
    "\n",
    "    return rounds, an_points >= points_to_win\n",
    "\n",
    "def estimate_probability_bonus(num_simulations=100000):\n",
    "    wins = sum(simulate_game_bonus()[1] for _ in range(num_simulations))\n",
    "    return wins / num_simulations\n",
    "\n",
    "estimate_prob_b = estimate_probability_bonus()\n",
    "\n",
    "print(\"Probability of An winning:\", estimate_prob_b)"
   ]
  },
  {
   "cell_type": "markdown",
   "metadata": {},
   "source": [
    "#### <div align=\"center\"><strong>Conclusion</strong></div>\n",
    "<hr>"
   ]
  },
  {
   "cell_type": "code",
   "execution_count": 7,
   "metadata": {},
   "outputs": [
    {
     "name": "stdout",
     "output_type": "stream",
     "text": [
      "The theoretical value is:  0.7188341759999999\n",
      "The estimated value is:  0.71888\n",
      "The difference between the theoretical and estimated value is:  4.582400000008313e-05\n"
     ]
    }
   ],
   "source": [
    "print('The theoretical value is: ', theoretical_prob_b)\n",
    "print('The estimated value is: ', estimate_prob_b)\n",
    "print('The difference between the theoretical and estimated value is: ', abs(theoretical_prob_b - estimate_prob_b))"
   ]
  },
  {
   "cell_type": "markdown",
   "metadata": {},
   "source": [
    "### `Calculate the expected number of rounds required for An to win in cases (a) and (b).`"
   ]
  },
  {
   "cell_type": "markdown",
   "metadata": {},
   "source": [
    "#### <div align=\"center\"><strong>Simulation method</strong></div>\n",
    "<hr>"
   ]
  },
  {
   "cell_type": "code",
   "execution_count": 9,
   "metadata": {},
   "outputs": [
    {
     "name": "stdout",
     "output_type": "stream",
     "text": [
      "Average number of games to play (a): 7.3509\n",
      "Average number of games to play (b): 6.05303\n"
     ]
    }
   ],
   "source": [
    "def monte_carlo_simulation(num_games=100000, p=0.6, target_score=10, part='a'):\n",
    "    total_rounds = 0\n",
    "    an_wins = 0\n",
    "\n",
    "    simulate_game_fn = simulate_game if part == 'a' else simulate_game_bonus\n",
    "\n",
    "    for _ in range(num_games):\n",
    "        rounds, an_win = simulate_game_fn(p, target_score)\n",
    "        total_rounds += rounds\n",
    "        an_wins += an_win\n",
    "\n",
    "    probability_an_wins = an_wins / num_games\n",
    "    average_rounds = total_rounds / num_games\n",
    "\n",
    "    return probability_an_wins, average_rounds\n",
    "\n",
    "num_games = 100000\n",
    "\n",
    "print(\"Average number of games to play (a):\", monte_carlo_simulation(num_games, p=0.6, target_score=10, part='a')[1])\n",
    "print(\"Average number of games to play (b):\", monte_carlo_simulation(num_games, p=0.6, target_score=10, part='b')[1])"
   ]
  }
 ],
 "metadata": {
  "kernelspec": {
   "display_name": "Python 3",
   "language": "python",
   "name": "python3"
  },
  "language_info": {
   "codemirror_mode": {
    "name": "ipython",
    "version": 3
   },
   "file_extension": ".py",
   "mimetype": "text/x-python",
   "name": "python",
   "nbconvert_exporter": "python",
   "pygments_lexer": "ipython3",
   "version": "3.12.3"
  }
 },
 "nbformat": 4,
 "nbformat_minor": 2
}
