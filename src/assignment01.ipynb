{
 "cells": [
  {
   "cell_type": "markdown",
   "metadata": {},
   "source": [
    "## Problem Description"
   ]
  },
  {
   "cell_type": "markdown",
   "metadata": {},
   "source": [
    "<p>An and Binh play a game consisting of multiple rounds. The first player to reach 10 points wins the game. Each round has only one winner. Assume that the rounds are independent and that An has a 0.6 probability of winning each round.</p>\n",
    "\n",
    "<ul>\n",
    "    <li>Calculate the probability that An wins the game if the winner of each round earns 2 points.</li>\n",
    "    <li>Same as (a), but if the winner also won the previous round, they earn an additional 1 point.</li>\n",
    "    <li>Calculate the expected number of rounds required for An to win in cases (a) and (b).</li>\n",
    "</ul>"
   ]
  },
  {
   "cell_type": "markdown",
   "metadata": {},
   "source": [
    "## Import neccessary python modules"
   ]
  },
  {
   "cell_type": "code",
   "execution_count": 8,
   "metadata": {},
   "outputs": [],
   "source": [
    "import random # Import the random module to generate random numbers"
   ]
  },
  {
   "cell_type": "markdown",
   "metadata": {},
   "source": [
    "## Solution"
   ]
  },
  {
   "cell_type": "markdown",
   "metadata": {},
   "source": [
    "`(a) Calculate the probability that An wins the game if the winner of each round earns 2 points.`"
   ]
  },
  {
   "cell_type": "markdown",
   "metadata": {},
   "source": [
    "#### <div align=\"center\"><strong>Pure math method</strong></div>\n",
    "<hr>"
   ]
  },
  {
   "cell_type": "markdown",
   "metadata": {},
   "source": [
    "<div align=\"center\"><strong>Conditions for An to win</strong></div>\n",
    "\n",
    "The game ends when a player wins **5 games** against his opponent. Therefore, An wins the game if:\n",
    "1. An wins **exactly 5 games**.\n",
    "2. An's **5th winning game** is the game that ends the game.\n",
    "3. The game ends at **$k$**th game with $k \\geq 5$, that is, An wins the $k$ game, and in the first $k-1$ games, An wins 4 games and Binh wins the remaining games.\n",
    "\n",
    "Therefore, the number of games that the game can end in is between $k = 5, 6, 7, 8, 9$ (maximum 9 games can occur).\n",
    "\n",
    "<div align=\"center\"><strong>Probability expression</strong></div>\n",
    "\n",
    "The probability that An wins the game is calculated by the sum of all possible cases:\n",
    "\n",
    "$$\n",
    "P(\\text{An wins}) = \\sum_{k=5}^{9} P_k\n",
    "$$\n",
    "\n",
    "Where, $ P_k $ is the probability that the game ends in the $ k $th game and An wins. This means that:\n",
    "- An wins **the k th game**.\n",
    "- An has won **4 games in the first $ k-1 $ games**.\n",
    "- Binh wins the remaining games in the first $ k-1 $ games.\n",
    "\n",
    "Therefore:\n",
    "\n",
    "$$\n",
    "P_k = \\binom{k-1}{4} (0.6)^5 (0.4)^{k-5}\n",
    "$$\n",
    "\n",
    "So the required result is:\n",
    "\n",
    "$$\n",
    "P(\\text{An thang}) = \\sum_{k=5}^{9} \\binom{k-1}{4} (0.6)^5 (0.4)^{k-5} \\approx 0.7334323199999999\n",
    "$$"
   ]
  },
  {
   "cell_type": "markdown",
   "metadata": {},
   "source": [
    "#### <div align=\"center\"><strong>Simulation method</strong></div>\n",
    "<hr>"
   ]
  },
  {
   "cell_type": "code",
   "execution_count": 9,
   "metadata": {},
   "outputs": [
    {
     "name": "stdout",
     "output_type": "stream",
     "text": [
      "The probability that An wins the game if the winner of each round earns 2 points: 0.73271\n"
     ]
    }
   ],
   "source": [
    "def simulate_game(prob_win=0.6, points_to_win=10):\n",
    "    an_points, binh_points = 0, 0\n",
    "    rounds = 0\n",
    "    \n",
    "    while an_points < points_to_win and binh_points < points_to_win:\n",
    "        rounds += 1\n",
    "        if random.random() < prob_win:\n",
    "            an_points += 2\n",
    "        else:\n",
    "            binh_points += 2\n",
    "\n",
    "    return rounds, an_points >= points_to_win\n",
    "\n",
    "def estimate_probability(num_simulations=100000):\n",
    "    wins = sum(simulate_game()[1] for _ in range(num_simulations))\n",
    "    return wins / num_simulations\n",
    "\n",
    "prob_a = estimate_probability()\n",
    "\n",
    "print(\"The probability that An wins the game if the winner of each round earns 2 points:\", prob_a)"
   ]
  },
  {
   "cell_type": "markdown",
   "metadata": {},
   "source": [
    "#### <div align=\"center\"><strong>Conclusion</strong></div>\n",
    "<hr>"
   ]
  },
  {
   "cell_type": "code",
   "execution_count": 11,
   "metadata": {},
   "outputs": [
    {
     "name": "stdout",
     "output_type": "stream",
     "text": [
      "The theoretical value is:  0.7334323199999999\n",
      "The estimated value is:  0.73271\n",
      "The difference between the theoretical and estimated value is:  0.000722319999999943\n"
     ]
    }
   ],
   "source": [
    "print('The theoretical value is: ',0.7334323199999999)\n",
    "print('The estimated value is: ',prob_a)\n",
    "print('The difference between the theoretical and estimated value is: ',0.7334323199999999-prob_a)"
   ]
  }
 ],
 "metadata": {
  "kernelspec": {
   "display_name": "Python 3",
   "language": "python",
   "name": "python3"
  },
  "language_info": {
   "codemirror_mode": {
    "name": "ipython",
    "version": 3
   },
   "file_extension": ".py",
   "mimetype": "text/x-python",
   "name": "python",
   "nbconvert_exporter": "python",
   "pygments_lexer": "ipython3",
   "version": "3.12.3"
  }
 },
 "nbformat": 4,
 "nbformat_minor": 2
}
