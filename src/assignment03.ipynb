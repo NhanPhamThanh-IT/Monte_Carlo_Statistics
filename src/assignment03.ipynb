{
 "cells": [
  {
   "cell_type": "markdown",
   "metadata": {},
   "source": [
    "## Problem description"
   ]
  },
  {
   "cell_type": "markdown",
   "metadata": {},
   "source": [
    "<p>Choose two random points A, B in S = $[0,1]^k$. Let D be the distance between A and B.</p>\n",
    "<ul>\n",
    "    <li>Compute E(D) when k = 1.</li>\n",
    "    <li>Compute E(D) when k = 2.</li>\n",
    "    <li>Analyze r_k = E(D)/√k for k = 1, 2, ..., 10.</li>\n",
    "</ul>"
   ]
  },
  {
   "cell_type": "markdown",
   "metadata": {},
   "source": [
    "## Import neccessary python modules"
   ]
  },
  {
   "cell_type": "code",
   "execution_count": 7,
   "metadata": {},
   "outputs": [],
   "source": [
    "import numpy as np # Importing numpy library\n",
    "import math # Importing math library"
   ]
  },
  {
   "cell_type": "markdown",
   "metadata": {},
   "source": [
    "## Solution"
   ]
  },
  {
   "cell_type": "markdown",
   "metadata": {},
   "source": [
    "### `a) Compute E(D) when k = 1.`"
   ]
  },
  {
   "cell_type": "markdown",
   "metadata": {},
   "source": [
    "#### <div align=\"center\"><strong>Pure math method</strong></div>\n",
    "<hr>"
   ]
  },
  {
   "cell_type": "markdown",
   "metadata": {},
   "source": [
    "When $k=1$, two points $x, y$ are randomly chosen on $[0,1]$. Then the distance between them is:\n",
    "\n",
    "$$\n",
    "D = |x - y|\n",
    "$$\n",
    "\n",
    "We have:\n",
    "\n",
    "$$\n",
    "E(D) = \\int_0^1 \\int_0^1 |x-y|\\,dx\\,dy = 2 \\int_0^1 \\int_0^x (x-y)\\,dy\\,dx.\n",
    "\n",
    "$$\n",
    "\n",
    "Calculate the inner integral:\n",
    "\n",
    "$$\n",
    "\\int_0^x (x-y)\\,dy = \\left[xy - \\frac{y^2}{2}\\right]_{0}^{x} = x^2 - \\frac{x^2}{2} = \\frac{x^2}{2}.\n",
    "$$\n",
    "\n",
    "Therefore, the value of E(D) when k = 1:\n",
    "\n",
    "$$\n",
    "E(D) = 2 \\int_0^1 \\frac{x^2}{2}\\,dx = \\int_0^1 x^2\\,dx = \\frac{1}{3}.\n",
    "\n",
    "$$"
   ]
  },
  {
   "cell_type": "markdown",
   "metadata": {},
   "source": [
    "#### <div align=\"center\"><strong>Simulation method</strong></div>\n",
    "<hr>"
   ]
  },
  {
   "cell_type": "code",
   "execution_count": 8,
   "metadata": {},
   "outputs": [
    {
     "name": "stdout",
     "output_type": "stream",
     "text": [
      "0.3331821488866092\n"
     ]
    }
   ],
   "source": [
    "n = 10000000\n",
    "x = np.random.rand(n)\n",
    "y = np.random.rand(n)\n",
    "\n",
    "D = np.abs(x - y)\n",
    "E_D = np.mean(D)\n",
    "\n",
    "print(E_D)"
   ]
  },
  {
   "cell_type": "markdown",
   "metadata": {},
   "source": [
    "#### <div align=\"center\"><strong>Conclusion</strong></div>\n",
    "<hr>"
   ]
  },
  {
   "cell_type": "code",
   "execution_count": 9,
   "metadata": {},
   "outputs": [
    {
     "name": "stdout",
     "output_type": "stream",
     "text": [
      "With k = 1, the theoretical calculation value of E(D) is:  0.3333333333333333\n",
      "With k = 1, the simulation value of E(D) is:  0.3331821488866092\n"
     ]
    }
   ],
   "source": [
    "print('With k = 1, the theoretical calculation value of E(D) is: ', 1/3)\n",
    "print('With k = 1, the simulation value of E(D) is: ', E_D)"
   ]
  },
  {
   "cell_type": "markdown",
   "metadata": {},
   "source": [
    "### `b) Compute E(D) when k = 2.`"
   ]
  },
  {
   "cell_type": "markdown",
   "metadata": {},
   "source": [
    "#### <div align=\"center\"><strong>Pure math method</strong></div>\n",
    "<hr>"
   ]
  },
  {
   "cell_type": "markdown",
   "metadata": {},
   "source": [
    "When $ k = 2 $, two points $ A $ and $ B $ are randomly chosen in the domain $ S = [0,1]^2 $, that is:\n",
    "\n",
    "$$\n",
    "A = (X_1, Y_1), \\quad B = (X_2, Y_2)\n",
    "$$\n",
    "\n",
    "The Euclidean distance between these two points is:\n",
    "\n",
    "$$\n",
    "D = \\sqrt{(X_2 - X_1)^2 + (Y_2 - Y_1)^2}\n",
    "$$\n",
    "\n",
    "We need to calculate the expected value:\n",
    "\n",
    "$$\n",
    "E(D) = \\mathbb{E} \\left[ \\sqrt{(X_2 - X_1)^2 + (Y_2 - Y_1)^2} \\right]\n",
    "$$\n",
    "\n",
    "A known result in probability theory for the case of two random points in the domain $ [0,1]^2 $ is:\n",
    "\n",
    "$$\n",
    "E(D) = \\int_0^1 \\int_0^1 \\int_0^1 \\int_0^1 \\sqrt{(x_2 - x_1)^2 + (y_2 - y_1)^2} \\,dx_1 \\,dx_2 \\,dy_1 \\,dy_2 \\quad (1)\n",
    "$$\n",
    "\n",
    "By using analytical methods or looking up results in mathematical documents, we have the formula:\n",
    "\n",
    "$$\n",
    "E(D) \\approx \\frac{1}{15} \\left( 2 + \\sqrt{2} + 5 \\ln(1 + \\sqrt{2}) \\right) \\approx 0.5214 \\quad (2)\n",
    "$$\n",
    "\n",
    "Thus, the expectation of the distance between two random points in the unit square is:\n",
    "\n",
    "$$\n",
    "E(D) \\approx 0.5214\n",
    "$$\n",
    "\n",
    "References for proving the above two formulas $(1)$ and $(2)$: https://www.youtube.com/watch?v=i4VqXRRXi68"
   ]
  },
  {
   "cell_type": "markdown",
   "metadata": {},
   "source": [
    "#### <div align=\"center\"><strong>Simulation method</strong></div>\n",
    "<hr>"
   ]
  },
  {
   "cell_type": "code",
   "execution_count": 10,
   "metadata": {},
   "outputs": [
    {
     "name": "stdout",
     "output_type": "stream",
     "text": [
      "E(D) =  0.5214937511103067\n"
     ]
    }
   ],
   "source": [
    "n = 10000000\n",
    "x1 = np.random.rand(n)\n",
    "x2 = np.random.rand(n)\n",
    "y1 = np.random.rand(n)\n",
    "y2 = np.random.rand(n)\n",
    "\n",
    "D = np.sqrt((x1 - y1)**2 + (x2 - y2)**2)\n",
    "E_D = np.mean(D)\n",
    "\n",
    "print('E(D) = ', E_D)"
   ]
  },
  {
   "cell_type": "markdown",
   "metadata": {},
   "source": [
    "#### <div align=\"center\"><strong>Conclusion</strong></div>\n",
    "<hr>"
   ]
  },
  {
   "cell_type": "code",
   "execution_count": 11,
   "metadata": {},
   "outputs": [
    {
     "name": "stdout",
     "output_type": "stream",
     "text": [
      "With k = 2, the value of E(D) when calculating theoretically is:  0.5214054331647207\n",
      "With k = 2, the value of E(D) when performing simulation is:  0.5214937511103067\n"
     ]
    }
   ],
   "source": [
    "print('With k = 2, the value of E(D) when calculating theoretically is: ', (math.sqrt(2) + 2 + 5*math.log(1+math.sqrt(2))) / 15)\n",
    "print('With k = 2, the value of E(D) when performing simulation is: ', E_D)"
   ]
  },
  {
   "cell_type": "markdown",
   "metadata": {},
   "source": [
    "#### <div align=\"center\"><strong>Pure math method</strong></div>\n",
    "<hr>"
   ]
  },
  {
   "cell_type": "markdown",
   "metadata": {},
   "source": [
    "#### <div align=\"center\"><strong>Simulation method</strong></div>\n",
    "<hr>"
   ]
  },
  {
   "cell_type": "markdown",
   "metadata": {},
   "source": [
    "#### <div align=\"center\"><strong>Conclusion</strong></div>\n",
    "<hr>"
   ]
  }
 ],
 "metadata": {
  "kernelspec": {
   "display_name": "Python 3",
   "language": "python",
   "name": "python3"
  },
  "language_info": {
   "codemirror_mode": {
    "name": "ipython",
    "version": 3
   },
   "file_extension": ".py",
   "mimetype": "text/x-python",
   "name": "python",
   "nbconvert_exporter": "python",
   "pygments_lexer": "ipython3",
   "version": "3.12.3"
  }
 },
 "nbformat": 4,
 "nbformat_minor": 2
}
