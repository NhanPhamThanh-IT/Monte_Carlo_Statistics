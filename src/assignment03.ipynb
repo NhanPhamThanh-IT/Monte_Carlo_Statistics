{
 "cells": [
  {
   "cell_type": "markdown",
   "metadata": {},
   "source": [
    "## Problem description"
   ]
  },
  {
   "cell_type": "markdown",
   "metadata": {},
   "source": [
    "<p>Choose two random points A, B in S = $[0,1]^k$. Let D be the distance between A and B.</p>\n",
    "<ul>\n",
    "    <li>Compute E(D) when k = 1.</li>\n",
    "    <li>Compute E(D) when k = 2.</li>\n",
    "    <li>Analyze r_k = E(D)/√k for k = 1, 2, ..., 10.</li>\n",
    "</ul>"
   ]
  },
  {
   "cell_type": "markdown",
   "metadata": {},
   "source": [
    "## Import neccessary python modules"
   ]
  },
  {
   "cell_type": "code",
   "execution_count": 7,
   "metadata": {},
   "outputs": [],
   "source": [
    "import numpy as np # Importing numpy library\n",
    "import math # Importing math library"
   ]
  },
  {
   "cell_type": "markdown",
   "metadata": {},
   "source": [
    "## Solution"
   ]
  },
  {
   "cell_type": "markdown",
   "metadata": {},
   "source": [
    "### `a) Compute E(D) when k = 1.`"
   ]
  },
  {
   "cell_type": "markdown",
   "metadata": {},
   "source": [
    "#### <div align=\"center\"><strong>Pure math method</strong></div>\n",
    "<hr>"
   ]
  },
  {
   "cell_type": "markdown",
   "metadata": {},
   "source": [
    "When $k=1$, two points $x, y$ are randomly chosen on $[0,1]$. Then the distance between them is:\n",
    "\n",
    "$$\n",
    "D = |x - y|\n",
    "$$\n",
    "\n",
    "We have:\n",
    "\n",
    "$$\n",
    "E(D) = \\int_0^1 \\int_0^1 |x-y|\\,dx\\,dy = 2 \\int_0^1 \\int_0^x (x-y)\\,dy\\,dx.\n",
    "\n",
    "$$\n",
    "\n",
    "Calculate the inner integral:\n",
    "\n",
    "$$\n",
    "\\int_0^x (x-y)\\,dy = \\left[xy - \\frac{y^2}{2}\\right]_{0}^{x} = x^2 - \\frac{x^2}{2} = \\frac{x^2}{2}.\n",
    "$$\n",
    "\n",
    "Therefore, the value of E(D) when k = 1:\n",
    "\n",
    "$$\n",
    "E(D) = 2 \\int_0^1 \\frac{x^2}{2}\\,dx = \\int_0^1 x^2\\,dx = \\frac{1}{3}.\n",
    "\n",
    "$$"
   ]
  },
  {
   "cell_type": "markdown",
   "metadata": {},
   "source": [
    "#### <div align=\"center\"><strong>Simulation method</strong></div>\n",
    "<hr>"
   ]
  },
  {
   "cell_type": "code",
   "execution_count": 8,
   "metadata": {},
   "outputs": [
    {
     "name": "stdout",
     "output_type": "stream",
     "text": [
      "0.3331821488866092\n"
     ]
    }
   ],
   "source": [
    "n = 10000000\n",
    "x = np.random.rand(n)\n",
    "y = np.random.rand(n)\n",
    "\n",
    "D = np.abs(x - y)\n",
    "E_D = np.mean(D)\n",
    "\n",
    "print(E_D)"
   ]
  },
  {
   "cell_type": "markdown",
   "metadata": {},
   "source": [
    "#### <div align=\"center\"><strong>Conclusion</strong></div>\n",
    "<hr>"
   ]
  },
  {
   "cell_type": "code",
   "execution_count": 9,
   "metadata": {},
   "outputs": [
    {
     "name": "stdout",
     "output_type": "stream",
     "text": [
      "With k = 1, the theoretical calculation value of E(D) is:  0.3333333333333333\n",
      "With k = 1, the simulation value of E(D) is:  0.3331821488866092\n"
     ]
    }
   ],
   "source": [
    "print('With k = 1, the theoretical calculation value of E(D) is: ', 1/3)\n",
    "print('With k = 1, the simulation value of E(D) is: ', E_D)"
   ]
  },
  {
   "cell_type": "markdown",
   "metadata": {},
   "source": [
    "### `b) Compute E(D) when k = 2.`"
   ]
  },
  {
   "cell_type": "markdown",
   "metadata": {},
   "source": [
    "#### <div align=\"center\"><strong>Pure math method</strong></div>\n",
    "<hr>"
   ]
  },
  {
   "cell_type": "markdown",
   "metadata": {},
   "source": [
    "When $ k = 2 $, two points $ A $ and $ B $ are randomly chosen in the domain $ S = [0,1]^2 $, that is:\n",
    "\n",
    "$$\n",
    "A = (X_1, Y_1), \\quad B = (X_2, Y_2)\n",
    "$$\n",
    "\n",
    "The Euclidean distance between these two points is:\n",
    "\n",
    "$$\n",
    "D = \\sqrt{(X_2 - X_1)^2 + (Y_2 - Y_1)^2}\n",
    "$$\n",
    "\n",
    "We need to calculate the expected value:\n",
    "\n",
    "$$\n",
    "E(D) = \\mathbb{E} \\left[ \\sqrt{(X_2 - X_1)^2 + (Y_2 - Y_1)^2} \\right]\n",
    "$$\n",
    "\n",
    "A known result in probability theory for the case of two random points in the domain $ [0,1]^2 $ is:\n",
    "\n",
    "$$\n",
    "E(D) = \\int_0^1 \\int_0^1 \\int_0^1 \\int_0^1 \\sqrt{(x_2 - x_1)^2 + (y_2 - y_1)^2} \\,dx_1 \\,dx_2 \\,dy_1 \\,dy_2 \\quad (1)\n",
    "$$\n",
    "\n",
    "By using analytical methods or looking up results in mathematical documents, we have the formula:\n",
    "\n",
    "$$\n",
    "E(D) \\approx \\frac{1}{15} \\left( 2 + \\sqrt{2} + 5 \\ln(1 + \\sqrt{2}) \\right) \\approx 0.5214 \\quad (2)\n",
    "$$\n",
    "\n",
    "Thus, the expectation of the distance between two random points in the unit square is:\n",
    "\n",
    "$$\n",
    "E(D) \\approx 0.5214\n",
    "$$\n",
    "\n",
    "References for proving the above two formulas $(1)$ and $(2)$: https://www.youtube.com/watch?v=i4VqXRRXi68"
   ]
  },
  {
   "cell_type": "markdown",
   "metadata": {},
   "source": [
    "#### <div align=\"center\"><strong>Simulation method</strong></div>\n",
    "<hr>"
   ]
  },
  {
   "cell_type": "code",
   "execution_count": 10,
   "metadata": {},
   "outputs": [
    {
     "name": "stdout",
     "output_type": "stream",
     "text": [
      "E(D) =  0.5214937511103067\n"
     ]
    }
   ],
   "source": [
    "n = 10000000\n",
    "x1 = np.random.rand(n)\n",
    "x2 = np.random.rand(n)\n",
    "y1 = np.random.rand(n)\n",
    "y2 = np.random.rand(n)\n",
    "\n",
    "D = np.sqrt((x1 - y1)**2 + (x2 - y2)**2)\n",
    "E_D = np.mean(D)\n",
    "\n",
    "print('E(D) = ', E_D)"
   ]
  },
  {
   "cell_type": "markdown",
   "metadata": {},
   "source": [
    "#### <div align=\"center\"><strong>Conclusion</strong></div>\n",
    "<hr>"
   ]
  },
  {
   "cell_type": "code",
   "execution_count": 11,
   "metadata": {},
   "outputs": [
    {
     "name": "stdout",
     "output_type": "stream",
     "text": [
      "With k = 2, the value of E(D) when calculating theoretically is:  0.5214054331647207\n",
      "With k = 2, the value of E(D) when performing simulation is:  0.5214937511103067\n"
     ]
    }
   ],
   "source": [
    "print('With k = 2, the value of E(D) when calculating theoretically is: ', (math.sqrt(2) + 2 + 5*math.log(1+math.sqrt(2))) / 15)\n",
    "print('With k = 2, the value of E(D) when performing simulation is: ', E_D)"
   ]
  },
  {
   "cell_type": "markdown",
   "metadata": {},
   "source": [
    "### `c) Survey r according to k = 1, 2, ..., 10`"
   ]
  },
  {
   "cell_type": "markdown",
   "metadata": {},
   "source": [
    "#### <div align=\"center\"><strong>Pure math method</strong></div>\n",
    "<hr>"
   ]
  },
  {
   "cell_type": "markdown",
   "metadata": {},
   "source": [
    "The Euclidean distance between two points $A=(a_1, a_2, \\dots, a_k)$ and $B=(b_1, b_2, \\dots, b_k)$ in a $k$-dimensional space is given by:\n",
    "\n",
    "$$D = \\sum_{i=1}^{k} (a_i - b_i)^2$$\n",
    "\n",
    "We want to find the expectation $E(D)$, then normalize with respect to $k$:\n",
    "\n",
    "$$r_k = \\frac{E(D)}{k}$$\n",
    "\n",
    "and check whether the limit of $r_k$ when $k \\to \\infty$ is:\n",
    "\n",
    "$$\\lim_{k \\to \\infty} r_k = \\frac{1}{\\sqrt{6}} \\approx 0.4082$$\n",
    "\n",
    "Each coordinate $a_i, b_i$ are independent random variables following a uniform distribution on interval $[0,1]$, so:\n",
    "\n",
    "$$X_i = a_i - b_i$$\n",
    "\n",
    "is a random variable with a symmetric distribution on the interval $[-1,1]$. We need to calculate:\n",
    "\n",
    "$$E[X_i^2] = E[(a_i - b_i)^2]$$\n",
    "\n",
    "We know that if $U, V$ are two independent random variables, uniformly distributed on $[0,1]$, then:\n",
    "\n",
    "$$E[(U - V)^2] = \\text{Var}(U) + \\text{Var}(V) = \\frac{1}{12} + \\frac{1}{12} = \\frac{1}{6}$$\n",
    "\n",
    "Therefore:\n",
    "\n",
    "$$E[(a_i - b_i)^2] = \\frac{1}{6}$$\n",
    "\n",
    "From there, we have the expected sum of the squared distances:\n",
    "\n",
    "$$E(D^2) = \\sum_{i=1}^{k} E[(a_i - b_i)^2] = k \\cdot \\frac{1}{6} = \\frac{k}{6}$$\n",
    "\n",
    "The square root function $f(x) = \\sqrt{x}$ is a convex function. Therefore, applying Jensen's inequality (1):\n",
    "\n",
    "$$E(D) = E[\\sqrt{D^2}] \\leq \\sqrt{E(D^2)} = \\sqrt{\\frac{k}{6}}$$\n",
    "\n",
    "From here, we see that:\n",
    "\n",
    "$$r_k = \\frac{E(D)}{k}$$\n",
    "\n",
    "Satisfy:\n",
    "\n",
    "$$r_k < \\frac{\\sqrt{k/6}}{k} = \\frac{1}{\\sqrt{6}} \\approx 0.4082$$\n",
    "\n",
    "From the above result, we predict that $r_k$ will converge to $\\frac{1}{\\sqrt{6}}$ when $k \\to \\infty$.\n",
    "\n",
    "References for inequality (1):\n",
    "- https://diendantoanhoc.org/topic/195918-ki%E1%BA%BFn-th%E1%BB%A9c-c%C6%A1-s%E1%BB%9F-v%E1%BB%81-b%E1%BA%A5t-%C4%91%E1%BA%B3ng-th%E1%BB%A9c-jensen/\n",
    "- https://www.mathvn.com/2021/05/bat-ang-thuc-jensen-cac-he-qua-va-vi-du.html"
   ]
  },
  {
   "cell_type": "markdown",
   "metadata": {},
   "source": [
    "#### <div align=\"center\"><strong>Simulation method</strong></div>\n",
    "<hr>"
   ]
  },
  {
   "cell_type": "code",
   "execution_count": 12,
   "metadata": {},
   "outputs": [
    {
     "name": "stdout",
     "output_type": "stream",
     "text": [
      "k = 1, E(D) = 0.3336914700267242, r_k = 0.3336914700267242\n",
      "k = 2, E(D) = 0.5198053604010009, r_k = 0.367557895236665\n",
      "k = 3, E(D) = 0.661839484257569, r_k = 0.3821132043964306\n",
      "k = 4, E(D) = 0.7790392150424964, r_k = 0.3895196075212482\n",
      "k = 5, E(D) = 0.8783426487250651, r_k = 0.39280677401729286\n",
      "k = 6, E(D) = 0.968762123432688, r_k = 0.39549548075753677\n",
      "k = 7, E(D) = 1.0520344335031495, r_k = 0.39763164024657877\n",
      "k = 8, E(D) = 1.1287085708993716, r_k = 0.39905874223316135\n",
      "k = 9, E(D) = 1.2013353681232062, r_k = 0.4004451227077354\n",
      "k = 10, E(D) = 1.2683124328438233, r_k = 0.401075607249583\n"
     ]
    }
   ],
   "source": [
    "def expected_distance(k, num_samples=100000):\n",
    " points = np.random.uniform(0, 1, (num_samples, 2, k))\n",
    " distances = np.linalg.norm(points[:, 0, :] - points[:, 1, :], axis=1)\n",
    " return distances.mean()\n",
    "\n",
    "results = {k: expected_distance(k) for k in range(1, 11)}\n",
    "\n",
    "for k, value in results.items():\n",
    " print(f\"k = {k}, E(D) = {value}, r_k = {value / np.sqrt(k)}\")"
   ]
  }
 ],
 "metadata": {
  "kernelspec": {
   "display_name": "Python 3",
   "language": "python",
   "name": "python3"
  },
  "language_info": {
   "codemirror_mode": {
    "name": "ipython",
    "version": 3
   },
   "file_extension": ".py",
   "mimetype": "text/x-python",
   "name": "python",
   "nbconvert_exporter": "python",
   "pygments_lexer": "ipython3",
   "version": "3.12.3"
  }
 },
 "nbformat": 4,
 "nbformat_minor": 2
}
