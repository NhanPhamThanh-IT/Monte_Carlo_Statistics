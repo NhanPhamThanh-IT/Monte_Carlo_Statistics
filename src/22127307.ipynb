{
 "cells": [
  {
   "cell_type": "markdown",
   "metadata": {},
   "source": [
    "<h4><strong>Họ tên SV: Phạm Thành Nhân</strong></h4>\n",
    "<h4><strong>Mã số SV: 22127307</strong></h3>"
   ]
  },
  {
   "cell_type": "markdown",
   "metadata": {},
   "source": [
    "# <div align=\"center\">Bài Tập 1 - Thống Kê Máy Tính Và Ứng dụng</div>"
   ]
  },
  {
   "cell_type": "markdown",
   "metadata": {},
   "source": [
    "### Import các thư viện cần thiết"
   ]
  },
  {
   "cell_type": "code",
   "execution_count": 1,
   "metadata": {},
   "outputs": [],
   "source": [
    "import numpy as np\n",
    "import random\n",
    "import math\n",
    "import matplotlib.pyplot as plt"
   ]
  },
  {
   "cell_type": "markdown",
   "metadata": {},
   "source": [
    "## Problem Description\n",
    "\n",
    "<p>An and Binh play a game consisting of multiple rounds. The first player to reach 10 points wins the game. Each round has only one winner. Assume that the rounds are independent and that An has a 0.6 probability of winning each round.</p>\n",
    "\n",
    "<ul>\n",
    "    <li>Calculate the probability that An wins the game if the winner of each round earns 2 points.</li>\n",
    "    <li>Same as (a), but if the winner also won the previous round, they earn an additional 1 point.</li>\n",
    "    <li>Calculate the expected number of rounds required for An to win in cases (a) and (b).</li>\n",
    "</ul>"
   ]
  },
  {
   "cell_type": "markdown",
   "metadata": {},
   "source": [
    "### `(a) Tính xác suất An thắng trò chơi nếu người thắng mỗi ván được 2 điểm.`"
   ]
  },
  {
   "cell_type": "markdown",
   "metadata": {},
   "source": [
    "#### <div align=\"center\"><strong>Phương pháp giải toán thuần túy</strong></div>"
   ]
  },
  {
   "cell_type": "markdown",
   "metadata": {},
   "source": [
    "### `(b) Nếu người thắng cũng thắng ván ngay trước đó thì được thêm 1 điểm.`"
   ]
  },
  {
   "cell_type": "markdown",
   "metadata": {},
   "source": [
    "#### <div align=\"center\"><strong>Phương pháp giải toán thuần túy</strong></div>"
   ]
  },
  {
   "cell_type": "code",
   "execution_count": 3,
   "metadata": {},
   "outputs": [
    {
     "name": "stdout",
     "output_type": "stream",
     "text": [
      "Xác suất An thắng: 0.7188341759999999\n"
     ]
    }
   ],
   "source": [
    "# Code mô phỏng cho phương pháp sử dụng quy hoạch động (Dynamic Programming)\n",
    "\n",
    "def calculate_probability(p):\n",
    "    q = 1 - p\n",
    "    max_score = 10\n",
    "    \n",
    "    dp = {L: [[0] * (max_score + 1) for _ in range(max_score + 1)] for L in [None, 'A', 'B']}\n",
    "\n",
    "    for L in [None, 'A', 'B']:\n",
    "        for b in range(max_score + 1):\n",
    "            dp[L][10][b] = 1\n",
    "    \n",
    "        for a in range(max_score + 1):\n",
    "            dp[L][a][10] = 0\n",
    "    \n",
    "    for a in range(max_score - 1, -1, -1):\n",
    "        for b in range(max_score - 1, -1, -1):\n",
    "            for L in [None, 'A', 'B']:\n",
    "                a_next = a + (3 if L == 'A' else 2)\n",
    "                if a_next >= max_score:\n",
    "                    win_A = 1\n",
    "                else:\n",
    "                    win_A = dp['A'][a_next][b]\n",
    "\n",
    "                b_next = b + (3 if L == 'B' else 2)\n",
    "                if b_next >= max_score:\n",
    "                    win_B = 0\n",
    "                else:\n",
    "                    win_B = dp['B'][a][b_next]\n",
    "\n",
    "                dp[L][a][b] = p * win_A + q * win_B\n",
    "\n",
    "    return dp[None][0][0]\n",
    "\n",
    "p = 0.6\n",
    "print(\"Xác suất An thắng:\", calculate_probability(p))"
   ]
  },
  {
   "cell_type": "markdown",
   "metadata": {},
   "source": [
    "### `(c) Tính trung bình số ván cần chơi.`"
   ]
  },
  {
   "cell_type": "markdown",
   "metadata": {},
   "source": [
    "#### <div align=\"center\"><strong>Phương pháp mô phỏng</strong></div>"
   ]
  },
  {
   "cell_type": "code",
   "execution_count": 5,
   "metadata": {},
   "outputs": [
    {
     "name": "stdout",
     "output_type": "stream",
     "text": [
      "Trung bình số ván cần chơi (a): 7.34864\n",
      "Trung bình số ván cần chơi (b): 6.05333\n"
     ]
    }
   ],
   "source": [
    "def monte_carlo_simulation(num_games=100000, p=0.6, target_score=10, part='a'):\n",
    "    total_rounds = 0\n",
    "    an_wins = 0\n",
    "\n",
    "    simulate_game_fn = simulate_game if part == 'a' else simulate_game_bonus\n",
    "\n",
    "    for _ in range(num_games):\n",
    "        rounds, an_win = simulate_game_fn(p, target_score)\n",
    "        total_rounds += rounds\n",
    "        an_wins += an_win\n",
    "\n",
    "    probability_an_wins = an_wins / num_games\n",
    "    average_rounds = total_rounds / num_games\n",
    "\n",
    "    return probability_an_wins, average_rounds\n",
    "\n",
    "num_games = 100000\n",
    "\n",
    "print(\"Trung bình số ván cần chơi (a):\", monte_carlo_simulation(num_games, p=0.6, target_score=10, part='a')[1])\n",
    "print(\"Trung bình số ván cần chơi (b):\", monte_carlo_simulation(num_games, p=0.6, target_score=10, part='b')[1])"
   ]
  },
  {
   "cell_type": "markdown",
   "metadata": {},
   "source": [
    "### Câu 2"
   ]
  },
  {
   "cell_type": "markdown",
   "metadata": {},
   "source": [
    "### `c) Phân phối của W=max{U,V}, với V~U(0,1) và độc lập với U`"
   ]
  },
  {
   "cell_type": "markdown",
   "metadata": {},
   "source": [
    "#### <div align=\"center\"><strong>Phương pháp giải toán thuần túy</strong></div>"
   ]
  },
  {
   "cell_type": "markdown",
   "metadata": {},
   "source": [
    "Giả sử $ U, V \\sim \\text{U}(0,1) $ và độc lập với nhau. Khi đó, ta có:\n",
    "\n",
    "$$\n",
    "F_W(w) = P(W \\leq w) = P(\\max\\{U,V\\} \\leq w) = P(U \\leq w \\text{ và } V \\leq w).\n",
    "$$\n",
    "\n",
    "Do \\( U \\) và \\( V \\) độc lập nên:\n",
    "\n",
    "$$\n",
    "F_W(w) = P(U \\leq w) \\cdot P(V \\leq w) = w \\times w = w^2, \\quad 0 \\leq w \\leq 1.\n",
    "$$\n",
    "\n",
    "Hàm mật độ xác suất của \\( W \\) là:\n",
    "\n",
    "$$\n",
    "f_W(w) = \\frac{d}{dw} F_W(w) = \\frac{d}{dw} (w^2) = 2w, \\quad 0 \\leq w \\leq 1.\n",
    "$$\n",
    "\n",
    "Vậy biến ngẫu nhiên $ W = \\max\\{U, V\\} $ có:\n",
    "- Hàm phân phối tích lũy: $ F_W(w) = w^2 $, với $ 0 \\leq w \\leq 1 $.\n",
    "- Hàm mật độ xác suất: $ f_W(w) = 2w $, với $ 0 \\leq w \\leq 1 $."
   ]
  },
  {
   "cell_type": "markdown",
   "metadata": {},
   "source": [
    "#### <div align=\"center\"><strong>Phương pháp mô phỏng</strong></div>"
   ]
  },
  {
   "cell_type": "code",
   "execution_count": 8,
   "metadata": {},
   "outputs": [
    {
     "data": {
      "image/png": "[encoded data removed]",
      "text/plain": [
       "<Figure size 640x480 with 1 Axes>"
      ]
     },
     "metadata": {},
     "output_type": "display_data"
    }
   ],
   "source": [
    "def max_uv(num_samples=100000):\n",
    "    U = np.random.uniform(0, 1, num_samples)\n",
    "    V = np.random.uniform(0, 1, num_samples)\n",
    "    return np.maximum(U, V)\n",
    "\n",
    "samples = max_uv()\n",
    "plot_distribution(samples, \"Phân phối của max{U, V}\")"
   ]
  },
  {
   "cell_type": "markdown",
   "metadata": {},
   "source": [
    "### Câu 3"
   ]
  },
  {
   "cell_type": "markdown",
   "metadata": {},
   "source": [
    "### `a) Tính E(D) khi k = 1`"
   ]
  },
  {
   "cell_type": "markdown",
   "metadata": {},
   "source": [
    "#### <div align=\"center\"><strong>Phương pháp giải toán thuần túy</strong></div>"
   ]
  },
  {
   "cell_type": "markdown",
   "metadata": {},
   "source": [
    "Khi $k=1$, hai điểm $x, y$ được chọn ngẫu nhiên trên $[0,1]$. Khi đó khoảng cách giữa chúng là:\n",
    "\n",
    "$$\n",
    "D = |x - y|\n",
    "$$\n",
    "\n",
    "Ta có:\n",
    "\n",
    "$$\n",
    "E(D) = \\int_0^1 \\int_0^1 |x-y|\\,dx\\,dy = 2 \\int_0^1 \\int_0^x (x-y)\\,dy\\,dx.\n",
    "$$\n",
    "\n",
    "Tính tích phân bên trong:\n",
    "\n",
    "$$\n",
    "\\int_0^x (x-y)\\,dy = \\left[xy - \\frac{y^2}{2}\\right]_{0}^{x} = x^2 - \\frac{x^2}{2} = \\frac{x^2}{2}.\n",
    "$$\n",
    "\n",
    "Do đó, giá trị của E(D) khi k = 1:\n",
    "\n",
    "$$\n",
    "E(D) = 2 \\int_0^1 \\frac{x^2}{2}\\,dx = \\int_0^1 x^2\\,dx = \\frac{1}{3}.\n",
    "$$"
   ]
  },
  {
   "cell_type": "markdown",
   "metadata": {},
   "source": [
    "#### <div align=\"center\"><strong>Phương pháp mô phỏng</strong></div>"
   ]
  },
  {
   "cell_type": "code",
   "execution_count": 9,
   "metadata": {},
   "outputs": [
    {
     "name": "stdout",
     "output_type": "stream",
     "text": [
      "0.3334090009396935\n"
     ]
    }
   ],
   "source": [
    "n = 10000000\n",
    "x = np.random.rand(n)\n",
    "y = np.random.rand(n)\n",
    "\n",
    "D = np.abs(x - y)\n",
    "E_D = np.mean(D)\n",
    "\n",
    "print(E_D)"
   ]
  },
  {
   "cell_type": "markdown",
   "metadata": {},
   "source": [
    "#### <div align=\"center\"><strong>Kết luận</strong></div>"
   ]
  },
  {
   "cell_type": "code",
   "execution_count": 10,
   "metadata": {},
   "outputs": [
    {
     "name": "stdout",
     "output_type": "stream",
     "text": [
      "Với k = 1, giá trị E(D) khi tính toán lý thuyết là:  0.3333333333333333\n",
      "Với k = 1, giá trị E(D) khi thực hiện mô phỏng là:  0.3334090009396935\n"
     ]
    }
   ],
   "source": [
    "print('Với k = 1, giá trị E(D) khi tính toán lý thuyết là: ', 1/3)\n",
    "print('Với k = 1, giá trị E(D) khi thực hiện mô phỏng là: ', E_D)"
   ]
  },
  {
   "cell_type": "markdown",
   "metadata": {},
   "source": [
    "### `b) Tính E(D) khi k = 2`"
   ]
  },
  {
   "cell_type": "markdown",
   "metadata": {},
   "source": [
    "#### <div align=\"center\"><strong>Phương pháp giải toán thuần túy</strong></div>"
   ]
  },
  {
   "cell_type": "markdown",
   "metadata": {},
   "source": [
    "Khi $ k = 2 $, hai điểm $ A $ và $ B $ được chọn ngẫu nhiên trong miền $ S = [0,1]^2 $, nghĩa là:\n",
    "\n",
    "$$\n",
    "A = (X_1, Y_1), \\quad B = (X_2, Y_2)\n",
    "$$\n",
    "\n",
    "Khoảng cách Euclid giữa hai điểm này là:\n",
    "\n",
    "$$\n",
    "D = \\sqrt{(X_2 - X_1)^2 + (Y_2 - Y_1)^2}\n",
    "$$\n",
    "\n",
    "Ta cần tính giá trị kỳ vọng:\n",
    "\n",
    "$$\n",
    "E(D) = \\mathbb{E} \\left[ \\sqrt{(X_2 - X_1)^2 + (Y_2 - Y_1)^2} \\right]\n",
    "$$\n",
    "\n",
    "Một kết quả đã biết trong lý thuyết xác suất cho trường hợp hai điểm ngẫu nhiên trong miền $ [0,1]^2 $ là:\n",
    "\n",
    "$$\n",
    "E(D) = \\int_0^1 \\int_0^1 \\int_0^1 \\int_0^1 \\sqrt{(x_2 - x_1)^2 + (y_2 - y_1)^2} \\,dx_1 \\,dx_2 \\,dy_1 \\,dy_2 \\quad (1)\n",
    "$$\n",
    "\n",
    "Bằng cách sử dụng các phương pháp giải tích hoặc kết quả tra cứu trong tài liệu toán học, ta có công thức:\n",
    "\n",
    "$$\n",
    "E(D) \\approx \\frac{1}{15} \\left( 2 + \\sqrt{2} + 5 \\ln(1 + \\sqrt{2}) \\right) \\approx 0.5214 \\quad (2)\n",
    "$$\n",
    "\n",
    "Vậy, kỳ vọng của khoảng cách giữa hai điểm ngẫu nhiên trong hình vuông đơn vị là:\n",
    "\n",
    "$$\n",
    "E(D) \\approx 0.5214\n",
    "$$\n",
    "\n",
    "Nguồn tham khảo cho việc chứng minh 2 công thức $(1)$ và $(2)$ trên: https://www.youtube.com/watch?v=i4VqXRRXi68"
   ]
  },
  {
   "cell_type": "markdown",
   "metadata": {},
   "source": [
    "#### <div align=\"center\"><strong>Phương pháp mô phỏng</strong></div>"
   ]
  },
  {
   "cell_type": "code",
   "execution_count": 11,
   "metadata": {},
   "outputs": [
    {
     "name": "stdout",
     "output_type": "stream",
     "text": [
      "E(D) =  0.5214578090497356\n"
     ]
    }
   ],
   "source": [
    "n = 10000000\n",
    "x1 = np.random.rand(n)\n",
    "x2 = np.random.rand(n)\n",
    "y1 = np.random.rand(n)\n",
    "y2 = np.random.rand(n)\n",
    "\n",
    "D = np.sqrt((x1 - y1)**2 + (x2 - y2)**2)\n",
    "E_D = np.mean(D)\n",
    "\n",
    "print('E(D) = ', E_D)"
   ]
  },
  {
   "cell_type": "markdown",
   "metadata": {},
   "source": [
    "#### <div align=\"center\"><strong>Kết luận</strong></div>"
   ]
  },
  {
   "cell_type": "code",
   "execution_count": 12,
   "metadata": {},
   "outputs": [
    {
     "name": "stdout",
     "output_type": "stream",
     "text": [
      "Với k = 2, giá trị E(D) khi tính toán lý thuyết là:  0.5214054331647207\n",
      "Với k = 2, giá trị E(D) khi thực hiện mô phỏng là:  0.5214578090497356\n"
     ]
    }
   ],
   "source": [
    "print('Với k = 2, giá trị E(D) khi tính toán lý thuyết là: ', (math.sqrt(2) + 2 + 5*math.log(1+math.sqrt(2))) / 15)\n",
    "print('Với k = 2, giá trị E(D) khi thực hiện mô phỏng là: ', E_D)"
   ]
  },
  {
   "cell_type": "markdown",
   "metadata": {},
   "source": [
    "### `c) Khảo sát r theo k = 1, 2, ..., 10`"
   ]
  },
  {
   "cell_type": "markdown",
   "metadata": {},
   "source": [
    "#### <div align=\"center\"><strong>Phương pháp giải toán thuần túy</strong></div>"
   ]
  },
  {
   "cell_type": "markdown",
   "metadata": {},
   "source": [
    "Khoảng cách Euclidean giữa hai điểm $A=(a_1, a_2, \\dots, a_k)$ và $B=(b_1, b_2, \\dots, b_k)$ trong không gian $k$-chiều được tính bằng công thức:\n",
    "\n",
    "$$D = \\sum_{i=1}^{k} (a_i - b_i)^2$$\n",
    "\n",
    "Chúng ta muốn tìm kỳ vọng $E(D)$, sau đó chuẩn hóa theo $k$:\n",
    "\n",
    "$$r_k = \\frac{E(D)}{k}$$\n",
    "\n",
    "và kiểm tra xem giới hạn của $r_k$ khi $k \\to \\infty$ có phải là:\n",
    "\n",
    "$$\\lim_{k \\to \\infty} r_k = \\frac{1}{\\sqrt{6}} \\approx 0.4082$$\n",
    "\n",
    "Mỗi tọa độ $a_i, b_i$ là các biến ngẫu nhiên độc lập tuân theo phân bố đều trên đoạn $[0,1]$, do đó:\n",
    "\n",
    "$$X_i = a_i - b_i$$\n",
    "\n",
    "là một biến ngẫu nhiên có phân phối đối xứng trên đoạn $[-1,1]$. Ta cần tính:\n",
    "\n",
    "$$E[X_i^2] = E[(a_i - b_i)^2]$$\n",
    "\n",
    "Ta biết rằng nếu $U, V$ là hai biến ngẫu nhiên độc lập, phân bố đều trên $[0,1]$, thì:\n",
    "\n",
    "$$E[(U - V)^2] = \\text{Var}(U) + \\text{Var}(V) = \\frac{1}{12} + \\frac{1}{12} = \\frac{1}{6}$$\n",
    "\n",
    "Vậy:\n",
    "\n",
    "$$E[(a_i - b_i)^2] = \\frac{1}{6}$$\n",
    "\n",
    "Từ đó, ta có tổng kỳ vọng của bình phương khoảng cách:\n",
    "\n",
    "$$E(D^2) = \\sum_{i=1}^{k} E[(a_i - b_i)^2] = k \\cdot \\frac{1}{6} = \\frac{k}{6}$$\n",
    "\n",
    "Hàm căn bậc hai $f(x) = \\sqrt{x}$ là một hàm lồi. Do đó, áp dụng bất đẳng thức Jensen (1): \n",
    "\n",
    "$$E(D) = E[\\sqrt{D^2}] \\leq \\sqrt{E(D^2)} = \\sqrt{\\frac{k}{6}}$$\n",
    "\n",
    "Từ đây, ta nhận thấy rằng:\n",
    "\n",
    "$$r_k = \\frac{E(D)}{k}$$\n",
    "\n",
    "Thỏa mãn:\n",
    "\n",
    "$$r_k < \\frac{\\sqrt{k/6}}{k} = \\frac{1}{\\sqrt{6}} \\approx 0.4082$$\n",
    "\n",
    "Từ kết quả trên, ta dự đoán rằng $r_k$ sẽ hội tụ đến $\\frac{1}{\\sqrt{6}}$ khi $k \\to \\infty$.\n",
    "\n",
    "Nguồn tham khảo cho bất đẳng thức (1):\n",
    "- https://diendantoanhoc.org/topic/195918-ki%E1%BA%BFn-th%E1%BB%A9c-c%C6%A1-s%E1%BB%9F-v%E1%BB%81-b%E1%BA%A5t-%C4%91%E1%BA%B3ng-th%E1%BB%A9c-jensen/\n",
    "- https://www.mathvn.com/2021/05/bat-ang-thuc-jensen-cac-he-qua-va-vi-du.html"
   ]
  },
  {
   "cell_type": "markdown",
   "metadata": {},
   "source": [
    "#### <div align=\"center\"><strong>Phương pháp mô phỏng</strong></div>"
   ]
  },
  {
   "cell_type": "code",
   "execution_count": 13,
   "metadata": {},
   "outputs": [
    {
     "name": "stdout",
     "output_type": "stream",
     "text": [
      "k = 1, E(D) = 0.333091484369973, r_k = 0.333091484369973\n",
      "k = 2, E(D) = 0.5208303667284581, r_k = 0.36828268416156906\n",
      "k = 3, E(D) = 0.6620172256384161, r_k = 0.3822158234305088\n",
      "k = 4, E(D) = 0.7776801145710083, r_k = 0.38884005728550414\n",
      "k = 5, E(D) = 0.876602558020784, r_k = 0.3920285817969353\n",
      "k = 6, E(D) = 0.968980740932217, r_k = 0.39558473097798497\n",
      "k = 7, E(D) = 1.0513415319206059, r_k = 0.3973697480650854\n",
      "k = 8, E(D) = 1.1287476582347409, r_k = 0.3990725616931104\n",
      "k = 9, E(D) = 1.2002188667794775, r_k = 0.4000729555931592\n",
      "k = 10, E(D) = 1.2674354897584694, r_k = 0.40079829349677765\n"
     ]
    }
   ],
   "source": [
    "# (a), (b), (c) Tính kỳ vọng khoảng cách giữa hai điểm trong không gian k-chiều.\n",
    "\n",
    "def expected_distance(k, num_samples=100000):\n",
    "    points = np.random.uniform(0, 1, (num_samples, 2, k))\n",
    "    distances = np.linalg.norm(points[:, 0, :] - points[:, 1, :], axis=1)\n",
    "    return distances.mean()\n",
    "\n",
    "results = {k: expected_distance(k) for k in range(1, 11)}\n",
    "\n",
    "for k, value in results.items():\n",
    "    print(f\"k = {k}, E(D) = {value}, r_k = {value / np.sqrt(k)}\")"
   ]
  },
  {
   "cell_type": "markdown",
   "metadata": {},
   "source": [
    "### Câu 4"
   ]
  },
  {
   "cell_type": "markdown",
   "metadata": {},
   "source": [
    "### `(a) So sánh hai thuật toán.`"
   ]
  },
  {
   "cell_type": "markdown",
   "metadata": {},
   "source": [
    "#### <div align=\"center\"><strong>Giải thích bằng toán học</strong></div>"
   ]
  },
  {
   "cell_type": "markdown",
   "metadata": {},
   "source": [
    "#### Xét hai thuật toán\n",
    "\n",
    "1. **Thuật toán 1 (Duyệt tuần tự từ đầu mảng)**  \n",
    "   - Khởi tạo `i = 1`.  \n",
    "   - Kiểm tra từng phần tử từ **chỉ số 1 đến n**.  \n",
    "   - Nếu gặp phần tử **bằng 1**, trả về vị trí đó.  \n",
    "\n",
    "2. **Thuật toán 2 (Chọn ngẫu nhiên một vị trí trong mảng)**  \n",
    "   - Chọn ngẫu nhiên một vị trí `i` từ tập `[1, n]`.  \n",
    "   - Nếu phần tử tại vị trí đó bằng 1, trả về vị trí đó.  \n",
    "   - Nếu không, tiếp tục chọn ngẫu nhiên đến khi gặp số 1.  \n",
    "\n",
    "#### Phân tích độ phức tạp thuật toán\n",
    "\n",
    "1. **Thuật toán 1**\n",
    "   - Vì có nửa số phần tử là 1, trung bình thuật toán sẽ cần duyệt qua **n/2 phần tử** để tìm thấy số 1 đầu tiên.\n",
    "   - Trường hợp tốt nhất: Số 1 nằm ở vị trí đầu tiên (1 lần kiểm tra) => `0(1)`.\n",
    "   - Trường hợp xấu nhất: Số 1 nằm ở cuối cùng (n lần kiểm tra) => `O(n)`.\n",
    "   - Trung bình: Toàn bộ số 0 nằm ở đầu mảng => `O(n/2) = O(n)`\n",
    "\n",
    "2. **Thuật toán 2**\n",
    "   - Xác suất chọn một vị trí chứa số 1\n",
    "   - Xác suất chọn một vị trí chứa số 1 là $ \\frac{1}{2} $, vì nửa mảng là số 1.\n",
    "   - Do đó, số lần lặp trung bình để chọn được số 1 là:\n",
    "\n",
    "   $$\n",
    "   E(X) = \\sum_{k=1}^{\\infty} k \\cdot P(X = k)\n",
    "   $$\n",
    "\n",
    "      - Xác suất tìm được số 1\n",
    "      - Xác suất tìm được số 1 ngay lần đầu: $ \\frac{1}{2} $.\n",
    "      - Xác suất tìm được số 1 ở lần thứ hai: $ \\left(\\frac{1}{2}\\right) \\cdot \\left(\\frac{1}{2}\\right) $.\n",
    "      - Xác suất tìm được số 1 ở lần thứ $ k $: $ \\left(\\frac{1}{2}\\right)^k $.\n",
    "      - Tổng kỳ vọng số lần thử cần thiết\n",
    "\n",
    "   $$\n",
    "   E(X) = \\sum_{k=1}^{\\infty} k \\cdot \\left(\\frac{1}{2}\\right)^k\n",
    "   $$\n",
    "\n",
    "   - Công thức tổng quát của chuỗi này là:\n",
    "\n",
    "   $$\n",
    "   E(X) = 2\n",
    "   $$\n",
    "\n",
    "   - Tức là trung bình chỉ mất **2 lần chọn** để tìm ra số 1.\n",
    "   - Như vậy, **thuật toán 2** có thời gian trung bình `O(1)`, nhanh hơn nhiều so với **thuật toán 1**  `O(n)`.\n",
    "\n",
    "#### Ổn định và tính chắc chắn  \n",
    "1. **Thuật toán 1** luôn tìm được số 1 sau tối đa `O(n)` bước.  \n",
    "2. **Thuật toán 2** nhanh hơn trung bình, nhưng **không đảm bảo** hoàn thành trong thời gian nhất định.  \n",
    "\n"
   ]
  },
  {
   "cell_type": "markdown",
   "metadata": {},
   "source": [
    "### `(b) Thuật toán nào tốt hơn?`"
   ]
  },
  {
   "cell_type": "markdown",
   "metadata": {},
   "source": [
    "| Tiêu chí | Thuật toán 1 | Thuật toán 2 |\n",
    "|----------|-------------|-------------|\n",
    "| **Thời gian trung bình** | `O(n)` | `O(1)` |\n",
    "| **Thời gian tệ nhất** | `O(n)` | `Vô hạn` |\n",
    "| **Ổn định** | Luôn tìm thấy trong `O(n)` | Rủi ro chọn sai vô hạn |\n",
    "| **Dễ triển khai** | Duyệt tuần tự | Dùng random |"
   ]
  },
  {
   "cell_type": "markdown",
   "metadata": {},
   "source": [
    "#### <div align=\"center\"><strong>Phương pháp mô phỏng</strong></div>"
   ]
  },
  {
   "cell_type": "code",
   "execution_count": 14,
   "metadata": {},
   "outputs": [
    {
     "name": "stdout",
     "output_type": "stream",
     "text": [
      "Thời gian trung bình thuật toán 1: 3.0\n",
      "Thời gian trung bình thuật toán 2: 52.816\n"
     ]
    }
   ],
   "source": [
    "def algorithm_1(a):\n",
    "    i = 0\n",
    "    while a[i] != 1:\n",
    "        i += 1\n",
    "    return i\n",
    "\n",
    "def algorithm_2(a):\n",
    "    n = len(a)\n",
    "    while True:\n",
    "        i = random.randint(0, n - 1)\n",
    "        if a[i] == 1:\n",
    "            return i\n",
    "\n",
    "def compare_algorithms(n, num_simulations=1000):\n",
    "    a = [0] * (n // 2) + [1] * (n // 2)\n",
    "    random.shuffle(a)\n",
    "\n",
    "    time_1 = sum(algorithm_1(a) for _ in range(num_simulations)) / num_simulations\n",
    "    time_2 = sum(algorithm_2(a) for _ in range(num_simulations)) / num_simulations\n",
    "\n",
    "    return time_1, time_2\n",
    "\n",
    "n = 100\n",
    "time_1, time_2 = compare_algorithms(n)\n",
    "print(f\"Thời gian trung bình thuật toán 1: {time_1}\")\n",
    "print(f\"Thời gian trung bình thuật toán 2: {time_2}\")"
   ]
  },
  {
   "cell_type": "markdown",
   "metadata": {},
   "source": [
    "#### <div align=\"center\"><strong>Kết luận</strong></div>"
   ]
  },
  {
   "cell_type": "markdown",
   "metadata": {},
   "source": [
    "Qua các phân tích và mô phỏng trên:\n",
    "\n",
    "- **Thuật toán 2** nhanh hơn trong hầu hết các trường hợp.  \n",
    "- **Thuật toán 1** an toàn hơn và luôn chạy được trong thời gian giới hạn.  \n",
    "- **Gợi ý tối ưu**: Kết hợp cả hai, bắt đầu bằng random, sau `k` lần thử chưa thành công thì chuyển sang duyệt tuần tự. "
   ]
  }
 ],
 "metadata": {
  "kernelspec": {
   "display_name": "Python 3",
   "language": "python",
   "name": "python3"
  },
  "language_info": {
   "codemirror_mode": {
    "name": "ipython",
    "version": 3
   },
   "file_extension": ".py",
   "mimetype": "text/x-python",
   "name": "python",
   "nbconvert_exporter": "python",
   "pygments_lexer": "ipython3",
   "version": "3.12.3"
  }
 },
 "nbformat": 4,
 "nbformat_minor": 2
}
