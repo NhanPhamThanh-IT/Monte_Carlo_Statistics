{
 "cells": [
  {
   "cell_type": "markdown",
   "metadata": {},
   "source": [
    "### `(a) So sánh hai thuật toán.`"
   ]
  },
  {
   "cell_type": "markdown",
   "metadata": {},
   "source": [
    "#### <div align=\"center\"><strong>Giải thích bằng toán học</strong></div>"
   ]
  },
  {
   "cell_type": "markdown",
   "metadata": {},
   "source": [
    "#### Xét hai thuật toán\n",
    "\n",
    "1. **Thuật toán 1 (Duyệt tuần tự từ đầu mảng)**  \n",
    "   - Khởi tạo `i = 1`.  \n",
    "   - Kiểm tra từng phần tử từ **chỉ số 1 đến n**.  \n",
    "   - Nếu gặp phần tử **bằng 1**, trả về vị trí đó.  \n",
    "\n",
    "2. **Thuật toán 2 (Chọn ngẫu nhiên một vị trí trong mảng)**  \n",
    "   - Chọn ngẫu nhiên một vị trí `i` từ tập `[1, n]`.  \n",
    "   - Nếu phần tử tại vị trí đó bằng 1, trả về vị trí đó.  \n",
    "   - Nếu không, tiếp tục chọn ngẫu nhiên đến khi gặp số 1.  \n",
    "\n",
    "#### Phân tích độ phức tạp thuật toán\n",
    "\n",
    "1. **Thuật toán 1**\n",
    "   - Vì có nửa số phần tử là 1, trung bình thuật toán sẽ cần duyệt qua **n/2 phần tử** để tìm thấy số 1 đầu tiên.\n",
    "   - Trường hợp tốt nhất: Số 1 nằm ở vị trí đầu tiên (1 lần kiểm tra) => `0(1)`.\n",
    "   - Trường hợp xấu nhất: Số 1 nằm ở cuối cùng (n lần kiểm tra) => `O(n)`.\n",
    "   - Trung bình: Toàn bộ số 0 nằm ở đầu mảng => `O(n/2) = O(n)`\n",
    "\n",
    "2. **Thuật toán 2**\n",
    "   - Xác suất chọn một vị trí chứa số 1\n",
    "   - Xác suất chọn một vị trí chứa số 1 là $ \\frac{1}{2} $, vì nửa mảng là số 1.\n",
    "   - Do đó, số lần lặp trung bình để chọn được số 1 là:\n",
    "\n",
    "   $$\n",
    "   E(X) = \\sum_{k=1}^{\\infty} k \\cdot P(X = k)\n",
    "   $$\n",
    "\n",
    "      - Xác suất tìm được số 1\n",
    "      - Xác suất tìm được số 1 ngay lần đầu: $ \\frac{1}{2} $.\n",
    "      - Xác suất tìm được số 1 ở lần thứ hai: $ \\left(\\frac{1}{2}\\right) \\cdot \\left(\\frac{1}{2}\\right) $.\n",
    "      - Xác suất tìm được số 1 ở lần thứ $ k $: $ \\left(\\frac{1}{2}\\right)^k $.\n",
    "      - Tổng kỳ vọng số lần thử cần thiết\n",
    "\n",
    "   $$\n",
    "   E(X) = \\sum_{k=1}^{\\infty} k \\cdot \\left(\\frac{1}{2}\\right)^k\n",
    "   $$\n",
    "\n",
    "   - Công thức tổng quát của chuỗi này là:\n",
    "\n",
    "   $$\n",
    "   E(X) = 2\n",
    "   $$\n",
    "\n",
    "   - Tức là trung bình chỉ mất **2 lần chọn** để tìm ra số 1.\n",
    "   - Như vậy, **thuật toán 2** có thời gian trung bình `O(1)`, nhanh hơn nhiều so với **thuật toán 1**  `O(n)`.\n",
    "\n",
    "#### Ổn định và tính chắc chắn  \n",
    "1. **Thuật toán 1** luôn tìm được số 1 sau tối đa `O(n)` bước.  \n",
    "2. **Thuật toán 2** nhanh hơn trung bình, nhưng **không đảm bảo** hoàn thành trong thời gian nhất định.  \n",
    "\n"
   ]
  },
  {
   "cell_type": "markdown",
   "metadata": {},
   "source": [
    "### `(b) Thuật toán nào tốt hơn?`"
   ]
  },
  {
   "cell_type": "markdown",
   "metadata": {},
   "source": [
    "| Tiêu chí | Thuật toán 1 | Thuật toán 2 |\n",
    "|----------|-------------|-------------|\n",
    "| **Thời gian trung bình** | `O(n)` | `O(1)` |\n",
    "| **Thời gian tệ nhất** | `O(n)` | `Vô hạn` |\n",
    "| **Ổn định** | Luôn tìm thấy trong `O(n)` | Rủi ro chọn sai vô hạn |\n",
    "| **Dễ triển khai** | Duyệt tuần tự | Dùng random |"
   ]
  },
  {
   "cell_type": "markdown",
   "metadata": {},
   "source": [
    "#### <div align=\"center\"><strong>Phương pháp mô phỏng</strong></div>"
   ]
  },
  {
   "cell_type": "code",
   "execution_count": 14,
   "metadata": {},
   "outputs": [
    {
     "name": "stdout",
     "output_type": "stream",
     "text": [
      "Thời gian trung bình thuật toán 1: 3.0\n",
      "Thời gian trung bình thuật toán 2: 52.816\n"
     ]
    }
   ],
   "source": [
    "def algorithm_1(a):\n",
    "    i = 0\n",
    "    while a[i] != 1:\n",
    "        i += 1\n",
    "    return i\n",
    "\n",
    "def algorithm_2(a):\n",
    "    n = len(a)\n",
    "    while True:\n",
    "        i = random.randint(0, n - 1)\n",
    "        if a[i] == 1:\n",
    "            return i\n",
    "\n",
    "def compare_algorithms(n, num_simulations=1000):\n",
    "    a = [0] * (n // 2) + [1] * (n // 2)\n",
    "    random.shuffle(a)\n",
    "\n",
    "    time_1 = sum(algorithm_1(a) for _ in range(num_simulations)) / num_simulations\n",
    "    time_2 = sum(algorithm_2(a) for _ in range(num_simulations)) / num_simulations\n",
    "\n",
    "    return time_1, time_2\n",
    "\n",
    "n = 100\n",
    "time_1, time_2 = compare_algorithms(n)\n",
    "print(f\"Thời gian trung bình thuật toán 1: {time_1}\")\n",
    "print(f\"Thời gian trung bình thuật toán 2: {time_2}\")"
   ]
  },
  {
   "cell_type": "markdown",
   "metadata": {},
   "source": [
    "#### <div align=\"center\"><strong>Kết luận</strong></div>"
   ]
  },
  {
   "cell_type": "markdown",
   "metadata": {},
   "source": [
    "Qua các phân tích và mô phỏng trên:\n",
    "\n",
    "- **Thuật toán 2** nhanh hơn trong hầu hết các trường hợp.  \n",
    "- **Thuật toán 1** an toàn hơn và luôn chạy được trong thời gian giới hạn.  \n",
    "- **Gợi ý tối ưu**: Kết hợp cả hai, bắt đầu bằng random, sau `k` lần thử chưa thành công thì chuyển sang duyệt tuần tự. "
   ]
  }
 ],
 "metadata": {
  "kernelspec": {
   "display_name": "Python 3",
   "language": "python",
   "name": "python3"
  },
  "language_info": {
   "codemirror_mode": {
    "name": "ipython",
    "version": 3
   },
   "file_extension": ".py",
   "mimetype": "text/x-python",
   "name": "python",
   "nbconvert_exporter": "python",
   "pygments_lexer": "ipython3",
   "version": "3.12.3"
  }
 },
 "nbformat": 4,
 "nbformat_minor": 2
}
