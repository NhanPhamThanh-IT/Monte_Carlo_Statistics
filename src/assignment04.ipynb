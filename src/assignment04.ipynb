{
 "cells": [
  {
   "cell_type": "markdown",
   "metadata": {},
   "source": [
    "## Problem description"
   ]
  },
  {
   "cell_type": "markdown",
   "metadata": {},
   "source": [
    "<p>Consider an array $a[1..n]$ containing half 0s and half 1s. The task is to find a position in $a$ where the value is 1. Consider the following two algorithms:</p>\n",
    "\n",
    "<p>Algorithm 1</p>  \n",
    "\n",
    "$$\n",
    "i = 1  \n",
    "\\text{while } a[i] \\neq 1:  \n",
    "\\quad i++  \n",
    "\\text{return } i  \n",
    "$$\n",
    "\n",
    "<p>Algorithm 2</p>\n",
    "\n",
    "$$  \n",
    "\\text{while True:}  \n",
    "\\quad i = \\text{random}(1, n)  \n",
    "\\quad \\text{if } a[i] == 1:  \n",
    "\\quad\\quad \\text{return } i  \n",
    "$$  \n",
    "\n",
    "The function `random(1, n)` returns a random integer between $1$ and $n$.  \n",
    "\n",
    "<ul>\n",
    "    <li>Compare the two algorithms.</li>\n",
    "    <li>Which algorithm is more efficient?</li>\n",
    "</ul>"
   ]
  },
  {
   "cell_type": "markdown",
   "metadata": {},
   "source": [
    "## Import neccessary python modules"
   ]
  },
  {
   "cell_type": "code",
   "execution_count": 6,
   "metadata": {},
   "outputs": [],
   "source": [
    "import random # Importing the random module"
   ]
  },
  {
   "cell_type": "markdown",
   "metadata": {},
   "source": [
    "## Solution"
   ]
  },
  {
   "cell_type": "markdown",
   "metadata": {},
   "source": [
    "### `a) Compare the two algorithms.`"
   ]
  },
  {
   "cell_type": "markdown",
   "metadata": {},
   "source": [
    "#### Consider two algorithms\n",
    "\n",
    "1. **Algorithm 1 (Traverse sequentially from the beginning of the array)**\n",
    "- Initialize `i = 1`.\n",
    "- Check each element from **index 1 to n**.\n",
    "- If an element is **equal to 1**, return that position.\n",
    "\n",
    "2. **Algorithm 2 (Randomly select a position in the array)**\n",
    "- Randomly select a position `i` from the set `[1, n]`.\n",
    "- If the element at that position is 1, return that position.\n",
    "- Otherwise, continue randomly selecting until a 1 is encountered.\n",
    "\n",
    "#### Analysis of algorithm complexity\n",
    "\n",
    "1. **Algorithm 1**\n",
    "- Since half of the elements are 1, on average the algorithm will need to traverse **n/2 elements** to find the first 1.\n",
    "- Best case: Number 1 is at the first position (1 check) => `0(1)`.\n",
    "\n",
    "- Worst case: Number 1 is at the last position (n checks) => `O(n)`.\n",
    "\n",
    "- Average: All 0s are at the beginning of the array => `O(n/2) = O(n)`\n",
    "\n",
    "2. **Algorithm 2**\n",
    "\n",
    "- Probability of choosing a position containing number 1\n",
    "- The probability of choosing a position containing number 1 is $ \\frac{1}{2} $, because half of the array is number 1.\n",
    "\n",
    "- Therefore, the average number of iterations to choose number 1 is:\n",
    "\n",
    "$$\n",
    "E(X) = \\sum_{k=1}^{\\infty} k \\cdot P(X = k)\n",
    "$$\n",
    "\n",
    "- Probability of finding number 1\n",
    "- Probability of finding number 1 on the first try: $ \\frac{1}{2} $.\n",
    "\n",
    "- Probability of finding 1 on the second try: $ \\left(\\frac{1}{2}\\right) \\cdot \\left(\\frac{1}{2}\\right) $.\n",
    "\n",
    "- Probability of finding 1 on the $k $th try: $ \\left(\\frac{1}{2}\\right)^k $.\n",
    "\n",
    "- Expected total number of required attempts\n",
    "\n",
    "$$\n",
    "E(X) = \\sum_{k=1}^{\\infty} k \\cdot \\left(\\frac{1}{2}\\right)^k\n",
    "$$\n",
    "\n",
    "- The general formula of this sequence is:\n",
    "\n",
    "$$\n",
    "E(X) = 2\n",
    "$$\n",
    "\n",
    "- That is, on average it only takes **2 picks** to find 1.\n",
    "\n",
    "- Thus, **algorithm 2** has an average time of `O(1)`, much faster than **algorithm 1** `O(n)`.\n",
    "\n",
    "#### Stability and robustness\n",
    "1. **Algorithm 1** always finds the number 1 after at most `O(n)` steps.\n",
    "2. **Algorithm 2** is faster on average, but **does not guarantee** to complete in a certain time."
   ]
  },
  {
   "cell_type": "markdown",
   "metadata": {},
   "source": [
    "### `b) Which algorithm is more efficient?`"
   ]
  },
  {
   "cell_type": "markdown",
   "metadata": {},
   "source": [
    "| Criteria | Algorithm 1 | Algorithm 2 |\n",
    "|----------|-------------|-------------|\n",
    "| **Average time** | `O(n)` | `O(1)` |\n",
    "| **Worst time** | `O(n)` | `Infinite` |\n",
    "| **Stable** | Always found in `O(n)` | Infinite risk of wrong choice |\n",
    "| **Easy to implement** | Sequential traversal | Use random |"
   ]
  },
  {
   "cell_type": "markdown",
   "metadata": {},
   "source": [
    "### `Simulation Method`"
   ]
  },
  {
   "cell_type": "code",
   "execution_count": 7,
   "metadata": {},
   "outputs": [
    {
     "name": "stdout",
     "output_type": "stream",
     "text": [
      "Average time of algorithm 1: 3.0\n",
      "Average time of algorithm 2: 48.674\n"
     ]
    }
   ],
   "source": [
    "def algorithm_1(a):\n",
    "    i = 0\n",
    "    while a[i] != 1:\n",
    "        i += 1\n",
    "    return i\n",
    "\n",
    "def algorithm_2(a):\n",
    "    n = len(a)\n",
    "    while True:\n",
    "        i = random.randint(0, n - 1)\n",
    "        if a[i] == 1:\n",
    "            return i\n",
    "\n",
    "def compare_algorithms(n, num_simulations=1000):\n",
    "    a = [0] * (n // 2) + [1] * (n // 2)\n",
    "    random.shuffle(a)\n",
    "\n",
    "    time_1 = sum(algorithm_1(a) for _ in range(num_simulations)) / num_simulations\n",
    "    time_2 = sum(algorithm_2(a) for _ in range(num_simulations)) / num_simulations\n",
    "\n",
    "    return time_1, time_2\n",
    "\n",
    "n = 100\n",
    "time_1, time_2 = compare_algorithms(n)\n",
    "print(f\"Average time of algorithm 1: {time_1}\")\n",
    "print(f\"Average time of algorithm 2: {time_2}\")"
   ]
  },
  {
   "cell_type": "markdown",
   "metadata": {},
   "source": [
    "### `Conclusion`"
   ]
  },
  {
   "cell_type": "markdown",
   "metadata": {},
   "source": [
    "Through the above analysis and simulation:\n",
    "\n",
    "- **Algorithm 2** is faster in most cases.\n",
    "\n",
    "- **Algorithm 1** is safer and always runs within the time limit.\n",
    "\n",
    "- **Optimization suggestion**: Combine both, start with random, after `k` unsuccessful attempts, switch to sequential browsing."
   ]
  }
 ],
 "metadata": {
  "kernelspec": {
   "display_name": "Python 3",
   "language": "python",
   "name": "python3"
  },
  "language_info": {
   "codemirror_mode": {
    "name": "ipython",
    "version": 3
   },
   "file_extension": ".py",
   "mimetype": "text/x-python",
   "name": "python",
   "nbconvert_exporter": "python",
   "pygments_lexer": "ipython3",
   "version": "3.12.3"
  }
 },
 "nbformat": 4,
 "nbformat_minor": 2
}
