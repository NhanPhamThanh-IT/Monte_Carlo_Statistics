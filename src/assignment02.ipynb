{
 "cells": [
  {
   "cell_type": "markdown",
   "metadata": {},
   "source": [
    "## Problem description"
   ]
  },
  {
   "cell_type": "markdown",
   "metadata": {},
   "source": [
    "Let U be a random variable uniformly distributed over (0,1).\n",
    "- For constants a < b, determine the distribution of a + (b -a)U.\n",
    "- For constants 0 < a < b < 1, determine the distribution of U given a < U < b.\n",
    "- Given that V is a random variable uniformly distributed over (0,1), determine the distribution of max {U, V}."
   ]
  },
  {
   "cell_type": "markdown",
   "metadata": {},
   "source": [
    "## Import neccessary python modules"
   ]
  },
  {
   "cell_type": "code",
   "execution_count": 10,
   "metadata": {},
   "outputs": [],
   "source": [
    "import numpy as np\n",
    "import matplotlib.pyplot as plt"
   ]
  },
  {
   "cell_type": "markdown",
   "metadata": {},
   "source": [
    "## Solution"
   ]
  },
  {
   "cell_type": "markdown",
   "metadata": {},
   "source": [
    "### `(a) For constants a < b, determine the distribution of a + (b -a)U.`"
   ]
  },
  {
   "cell_type": "markdown",
   "metadata": {},
   "source": [
    "#### <div align=\"center\"><strong>Pure math method</strong></div>\n",
    "<hr>"
   ]
  },
  {
   "cell_type": "markdown",
   "metadata": {},
   "source": [
    "The variable $U$ is uniformly distributed on $[0,1]$, meaning it has the probability density function:\n",
    "\n",
    "$$ f_U(u) = 1, \\quad 0 \\leq u \\leq 1. $$\n",
    "\n",
    "When transforming $X = a + (b - a)U$, we find that:\n",
    "\n",
    "- When $U = 0 \\Rightarrow X = a$.\n",
    "\n",
    "- When $U = 1 \\Rightarrow X = b$.\n",
    "\n",
    "- When $U$ runs from $0$ to $1$, $X$ runs from $a$ to $b$, ensuring that the value domain of $X$ is exactly $[a, b]$.\n",
    "\n",
    "The distribution function of $X$ is calculated as follows:\n",
    "\n",
    "$$ F_X(x) = P(X \\leq x) = P(a + (b - a)U \\leq x). $$\n",
    "\n",
    "Convert to $U$:\n",
    "\n",
    "$$ P(U \\leq \\frac{x - a}{b - a}). $$\n",
    "\n",
    "Since $U$ is uniformly distributed on $[0,1]$, we have:\n",
    "\n",
    "$$ P(U \\leq y) = y, \\quad 0 \\leq y \\leq 1. $$\n",
    "\n",
    "Therefore:\n",
    "\n",
    "$$ F_X(x) = \\frac{x - a}{b - a}, \\quad a \\leq x \\leq b. $$\n",
    "\n",
    "Taking the derivative of $F_X(x)$ with respect to $x$, we get:\n",
    "\n",
    "$$ f_X(x) = \\frac{d}{dx} F_X(x) = \\frac{1}{b - a}, \\quad a \\leq x \\leq b. $$\n",
    "\n",
    "This density function fits the definition of the uniform distribution $U(a,b)$, confirming that $X$ is indeed uniformly distributed on $[a,b]$."
   ]
  },
  {
   "cell_type": "markdown",
   "metadata": {},
   "source": [
    "#### <div align=\"center\"><strong>Simulation method</strong></div>\n",
    "<hr>"
   ]
  },
  {
   "cell_type": "code",
   "execution_count": 11,
   "metadata": {},
   "outputs": [
    {
     "data": {
      "image/png": "[encoded data removed]",
      "text/plain": [
       "<Figure size 640x480 with 1 Axes>"
      ]
     },
     "metadata": {},
     "output_type": "display_data"
    }
   ],
   "source": [
    "def uniform_distribution(a, b, num_samples=100000):\n",
    " U = np.random.uniform(0, 1, num_samples)\n",
    " return a + (b - a) * U\n",
    "\n",
    "def plot_distribution(data, title):\n",
    " plt.hist(data, bins=50, density=True, alpha=0.6, color='g')\n",
    " plt.title(title)\n",
    " plt.show()\n",
    "\n",
    "samples = uniform_distribution(2, 5)\n",
    "plot_distribution(samples, \"Distribution of a + (b - a)U with a=2, b=5\")"
   ]
  },
  {
   "cell_type": "markdown",
   "metadata": {},
   "source": [
    "#### <div align=\"center\"><strong>Conclusion</strong></div>\n",
    "<hr>"
   ]
  },
  {
   "cell_type": "markdown",
   "metadata": {},
   "source": [
    "Confirming that $X$ is indeed uniformly distributed on $[a,b]$."
   ]
  },
  {
   "cell_type": "markdown",
   "metadata": {},
   "source": [
    "### `(b) For constants 0 < a < b < 1, determine the distribution of U given a < U < b.`"
   ]
  },
  {
   "cell_type": "markdown",
   "metadata": {},
   "source": [
    "#### <div align=\"center\"><strong>Pure math method</strong></div>\n",
    "<hr>"
   ]
  },
  {
   "cell_type": "markdown",
   "metadata": {},
   "source": [
    "Suppose $U$ is a random variable with a uniform distribution on $(0,1)$, that is:\n",
    "\n",
    "$$ U \\sim \\text{U}(0,1). $$\n",
    "\n",
    "Then, the probability density function of $U$ is:\n",
    "\n",
    "$$ f_U(x) = \\begin{cases} 1, & 0 < x < 1, \\\\ 0, & \\text{otherwise}. \\end{cases} $$\n",
    "\n",
    "The conditional distribution function of $U$, denoted $F_{U|a<U<b}(x)$, is defined as:\n",
    "\n",
    "$$ F_{U|a<U<b}(x) = P(U \\leq x \\mid a < U < b). $$\n",
    "\n",
    "According to the conditional probability formula:\n",
    "\n",
    "$$ P(A \\mid B) = \\frac{P(A \\cap B)}{P(B)}. $$\n",
    "\n",
    "Apply to the problem:\n",
    "\n",
    "$$ F_{U|a<U<b}(x) = \\frac{P(a < U \\leq x)}{P(a < U < b)}, \\quad \\text{with } a \\leq x \\leq b. \\quad (1) $$\n",
    "\n",
    "Calculate $P(a < U \\leq x)$:\n",
    "\n",
    "$$ Since U \\sim \\text{U}(0,1), P(a < U \\leq x) = \\int_a^x f_U(t) dt = \\int_a^x 1 dt = x - a. \\quad (2) $$\n",
    "\n",
    "Calculate $P(a < U < b)$:\n",
    "\n",
    "$$ P(a < U < b) = \\int_a^b f_U(t) dt = \\int_a^b 1 dt = b - a. \\quad (3) $$\n",
    "\n",
    "Substitute $ (2) $ and $ (3) $ into $ (1) $, we have:\n",
    "\n",
    "$$ F_{U|a<U<b}(x) = \\frac{x - a}{b - a}, \\quad a \\leq x \\leq b. $$\n",
    "\n",
    "The conditional probability density function is calculated by the derivative of the distribution function:\n",
    "\n",
    "$$ f_{U|a<U<b}(x) = \\frac{d}{dx} F_{U|a<U<b}(x). $$\n",
    "\n",
    "Calculate the derivative:\n",
    "\n",
    "$$ \\frac{d}{dx} \\left( \\frac{x - a}{b - a} \\right) = \\frac{1}{b - a}. $$\n",
    "\n",
    "So the conditional density function of $U$ given that $a < U < b$ is:\n",
    "\n",
    "$$ f_{U|a<U<b}(x) = \\frac{1}{b - a}, \\quad a \\leq x \\leq b. $$\n",
    "\n",
    "The random variable $U$ given that $a < U < b$ has a uniform distribution on the interval $(a, b)$:\n",
    "\n",
    "$$ U \\mid (a < U < b) \\sim \\text{U}(a, b). $$\n",
    "\n",
    "This means that when we consider a uniform random variable $U$ on $(0,1)$, if we only care about the interval $(a, b)$, its distribution is still uniform on that interval."
   ]
  },
  {
   "cell_type": "markdown",
   "metadata": {},
   "source": [
    "#### <div align=\"center\"><strong>Simulation method</strong></div>\n",
    "<hr>"
   ]
  },
  {
   "cell_type": "code",
   "execution_count": 12,
   "metadata": {},
   "outputs": [
    {
     "data": {
      "image/png": "[encoded data removed]",
      "text/plain": [
       "<Figure size 640x480 with 1 Axes>"
      ]
     },
     "metadata": {},
     "output_type": "display_data"
    }
   ],
   "source": [
    "def conditional_uniform(a, b, num_samples=100000):\n",
    " U = np.random.uniform(a, b, num_samples)\n",
    " return U\n",
    "\n",
    "samples = conditional_uniform(0.3, 0.7)\n",
    "plot_distribution(samples, \"Distribution of U given 0.3 < U < 0.7\")"
   ]
  },
  {
   "cell_type": "markdown",
   "metadata": {},
   "source": [
    "#### <div align=\"center\"><strong>Conclusion</strong></div>\n",
    "<hr>"
   ]
  },
  {
   "cell_type": "markdown",
   "metadata": {},
   "source": [
    "That when we consider a uniform random variable $U$ on $(0,1)$, if we only care about the interval $(a, b)$, its distribution is still uniform on that interval."
   ]
  },
  {
   "cell_type": "markdown",
   "metadata": {},
   "source": [
    "### `(c) Given that V is a random variable uniformly distributed over (0,1), determine the distribution of max {U, V}.`"
   ]
  },
  {
   "cell_type": "markdown",
   "metadata": {},
   "source": [
    "#### <div align=\"center\"><strong>Pure math method</strong></div>\n",
    "<hr>"
   ]
  },
  {
   "cell_type": "markdown",
   "metadata": {},
   "source": [
    "Suppose $ U, V \\sim \\text{U}(0,1) $ and are independent. Then, we have:\n",
    "\n",
    "$$\n",
    "FW(w) = P(W \\leq w) = P(\\max\\{U,V\\} \\leq w) = P(U \\leq w \\text{ and } V \\leq w).\n",
    "$$\n",
    "\n",
    "Since \\( U \\) and \\( V \\) are independent:\n",
    "\n",
    "$$\n",
    "FW(w) = P(U \\leq w) \\cdot P(V \\leq w) = w \\times w = w^2, \\quad 0 \\leq w \\leq 1.\n",
    "$$\n",
    "\n",
    "The probability density function of \\( W \\) is:\n",
    "\n",
    "$$\n",
    "f_W(w) = \\frac{d}{dw} F_W(w) = \\frac{d}{dw} (w^2) = 2w, \\quad 0 \\leq w \\leq 1.\n",
    "$$\n",
    "\n",
    "So the random variable $ W = \\max\\{U, V\\} $ has:\n",
    "- Cumulative distribution function: $ F_W(w) = w^2 $, with $ 0 \\leq w \\leq 1 $.\n",
    "\n",
    "- Probability density function: $ f_W(w) = 2w $, with $ 0 \\leq w \\leq 1 $."
   ]
  },
  {
   "cell_type": "markdown",
   "metadata": {},
   "source": [
    "#### <div align=\"center\"><strong>Simulation method</strong></div>\n",
    "<hr>"
   ]
  },
  {
   "cell_type": "code",
   "execution_count": 13,
   "metadata": {},
   "outputs": [
    {
     "data": {
      "image/png": "[encoded data removed]",
      "text/plain": [
       "<Figure size 640x480 with 1 Axes>"
      ]
     },
     "metadata": {},
     "output_type": "display_data"
    }
   ],
   "source": [
    "def max_uv(num_samples=100000):\n",
    " U = np.random.uniform(0, 1, num_samples)\n",
    " V = np.random.uniform(0, 1, num_samples)\n",
    " return np.maximum(U, V)\n",
    "\n",
    "samples = max_uv()\n",
    "plot_distribution(samples, \"Distribution of max{U, V}\")"
   ]
  },
  {
   "cell_type": "markdown",
   "metadata": {},
   "source": [
    "#### <div align=\"center\"><strong>Conclusion</strong></div>\n",
    "<hr>"
   ]
  },
  {
   "cell_type": "markdown",
   "metadata": {},
   "source": [
    "So the random variable $ W = \\max\\{U, V\\} $ has:\n",
    "- Cumulative distribution function: $ F_W(w) = w^2 $, with $ 0 \\leq w \\leq 1 $.\n",
    "\n",
    "- Probability density function: $ f_W(w) = 2w $, with $ 0 \\leq w \\leq 1 $."
   ]
  }
 ],
 "metadata": {
  "kernelspec": {
   "display_name": "Python 3",
   "language": "python",
   "name": "python3"
  },
  "language_info": {
   "codemirror_mode": {
    "name": "ipython",
    "version": 3
   },
   "file_extension": ".py",
   "mimetype": "text/x-python",
   "name": "python",
   "nbconvert_exporter": "python",
   "pygments_lexer": "ipython3",
   "version": "3.12.3"
  }
 },
 "nbformat": 4,
 "nbformat_minor": 2
}
