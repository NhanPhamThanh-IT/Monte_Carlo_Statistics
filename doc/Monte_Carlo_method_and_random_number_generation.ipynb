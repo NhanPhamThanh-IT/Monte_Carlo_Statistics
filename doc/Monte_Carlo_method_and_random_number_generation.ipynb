{
 "cells": [
  {
   "cell_type": "markdown",
   "metadata": {},
   "source": [
    "# Thống kê máy tính và ứng dụng (Computational Statistics and Applications)\n",
    "\n",
    "**Khoa Công nghệ Thông tin - ĐH Khoa học Tự nhiên TP. HCM ([fit@hcmus](https://www.fit.hcmus.edu.vn/))**\n",
    "\n",
    "*Vũ Quốc Hoàng (vqhoang@fit.hcmus.edu.vn)*"
   ]
  },
  {
   "cell_type": "markdown",
   "metadata": {},
   "source": [
    "# Bài 3 - Phương pháp Monte Carlo và sinh số ngẫu nhiên"
   ]
  },
  {
   "cell_type": "markdown",
   "metadata": {},
   "source": [
    "**Nội dung**\n",
    "\n",
    "* [Phương pháp Monte Carlo](#monte_carlo)\n",
    "  * [Ví dụ 1](#monte_carlo_vi_du_1)\n",
    "  * [Ví dụ 2](#monte_carlo_vi_du_2)\n",
    "* [Sinh số ngẫu nhiên](#sinh_so_ngau_nhien)\n",
    "* [Các bộ sinh số giả ngẫu nhiên](#gia_ngau_nhien)\n",
    "* [Sinh biến ngẫu nhiên rời rạc](#roi_rac)\n",
    "* [Phương pháp biến đổi ngược](#bien_doi_nguoc)\n",
    "* [Phương pháp lấy mẫu loại bỏ](#loai_bo)\n",
    "  * [Lấy mẫu loại bỏ cơ bản](#loai_bo_co_ban)\n",
    "  * [Lấy mẫu loại bỏ theo khuôn](#loai_bo_theo_khuon)\n",
    "  * [Lấy mẫu cho phân phối có điều kiện](#loai_bo_dieu_kien)"
   ]
  },
  {
   "cell_type": "code",
   "execution_count": 1,
   "metadata": {},
   "outputs": [],
   "source": [
    "import random\n",
    "from collections import Counter\n",
    "import numpy as np\n",
    "import matplotlib.pyplot as plt\n",
    "import scipy.stats as stats\n",
    "import pandas as pd"
   ]
  },
  {
   "cell_type": "markdown",
   "metadata": {},
   "source": [
    "## <a name=\"monte_carlo\"/>Phương pháp Monte Carlo"
   ]
  },
  {
   "cell_type": "markdown",
   "metadata": {},
   "source": [
    "### <a name=\"monte_carlo_vi_du_1\"/>Ví dụ 1"
   ]
  },
  {
   "cell_type": "markdown",
   "metadata": {},
   "source": [
    "Ước lượng số $\\pi$ (xem [Wikipedia](https://en.wikipedia.org/wiki/Monte_Carlo_method))."
   ]
  },
  {
   "cell_type": "code",
   "execution_count": 2,
   "metadata": {},
   "outputs": [
    {
     "name": "stdout",
     "output_type": "stream",
     "text": [
      "3.141696\n"
     ]
    }
   ],
   "source": [
    "def draw_point():\n",
    "    x, y = random.random(), random.random()\n",
    "    return x**2 + y**2 <= 1\n",
    "\n",
    "N = 1000_000\n",
    "f = sum(draw_point() for _ in range (N))/N\n",
    "pi = 4*f\n",
    "print(pi)"
   ]
  },
  {
   "cell_type": "markdown",
   "metadata": {},
   "source": [
    "Tính toán hiệu quả hơn (nhanh hơn) với NumPy."
   ]
  },
  {
   "cell_type": "code",
   "execution_count": 3,
   "metadata": {},
   "outputs": [
    {
     "name": "stdout",
     "output_type": "stream",
     "text": [
      "3.1418464\n"
     ]
    }
   ],
   "source": [
    "N = 1000_0000\n",
    "x, y = np.random.random(N), np.random.random(N)\n",
    "f = np.mean(x**2 + y**2 <= 1)\n",
    "pi = 4*f\n",
    "print(pi)"
   ]
  },
  {
   "cell_type": "markdown",
   "metadata": {},
   "source": [
    "### <a name=\"monte_carlo_vi_du_2\"/>Ví dụ 2"
   ]
  },
  {
   "cell_type": "markdown",
   "metadata": {},
   "source": [
    "Ước lượng \n",
    "$$\\int_0^{2\\pi} e^{\\cos x}dx.$$"
   ]
  },
  {
   "cell_type": "markdown",
   "metadata": {},
   "source": [
    "Tích phân này không tính chính xác được. Giá trị xấp xỉ khoảng 7.9549 (có thể tính online tại [Wolfram|Alpha](https://www.wolframalpha.com/calculators/integral-calculator/))."
   ]
  },
  {
   "cell_type": "markdown",
   "metadata": {},
   "source": [
    "Mã sau ước lượng bằng phương pháp Monte Carlo."
   ]
  },
  {
   "cell_type": "code",
   "execution_count": 4,
   "metadata": {},
   "outputs": [
    {
     "name": "stdout",
     "output_type": "stream",
     "text": [
      "7.9643\n"
     ]
    }
   ],
   "source": [
    "N = 1000_000\n",
    "X = np.random.uniform(0, 2*np.pi, size=N)\n",
    "Y = np.exp(np.cos(X))\n",
    "\n",
    "print(round(2*np.pi * np.mean(Y), 4))"
   ]
  },
  {
   "cell_type": "markdown",
   "metadata": {},
   "source": [
    "## <a name=\"sinh_so_ngau_nhien\"/>Sinh số ngẫu nhiên"
   ]
  },
  {
   "cell_type": "markdown",
   "metadata": {},
   "source": [
    "**Yêu cầu.** Từ một đồng xu có xác suất ra ngửa là $p$ $(0 < p < 1)$, ta không biết giá trị của $p$, tìm cách sinh một biến cố có xác suất là 50%."
   ]
  },
  {
   "cell_type": "code",
   "execution_count": 5,
   "metadata": {},
   "outputs": [
    {
     "data": {
      "text/plain": [
       "0.6925"
      ]
     },
     "execution_count": 5,
     "metadata": {},
     "output_type": "execute_result"
    }
   ],
   "source": [
    "def tung_dong_xu():\n",
    "    p = 0.7 # unknown\n",
    "    return random.choices([0, 1], [1 - p, p])[0]\n",
    "\n",
    "def tan_xuat(e, N): \n",
    "    return sum(e() for _ in range(N))/N\n",
    "\n",
    "tan_xuat(tung_dong_xu, 10000)"
   ]
  },
  {
   "cell_type": "markdown",
   "metadata": {},
   "source": [
    "**Giải pháp.** Ta có thể sinh một biến cố có xác suất là 50% từ đồng xu bằng thủ tục sau\n",
    "\n",
    "> *Bước 1.* Tung đồng xu 2 lần, gọi $m_1, m_2$ lần lượt là mặt ra của đồng xu ở lần 1, lần 2.\n",
    ">\n",
    "> *Bước 2.* Lặp lại Bước 1 cho đến khi $m_1 \\neq m_2$.\n",
    ">\n",
    "> *Bước 3.* Trả về biến cố \"$m_1$ là ngửa\"."
   ]
  },
  {
   "cell_type": "code",
   "execution_count": 6,
   "metadata": {},
   "outputs": [
    {
     "data": {
      "text/plain": [
       "0.4975"
      ]
     },
     "execution_count": 6,
     "metadata": {},
     "output_type": "execute_result"
    }
   ],
   "source": [
    "def tung_dong_xu_can_bang():\n",
    "    while True:\n",
    "        m1 = tung_dong_xu()\n",
    "        m2 = tung_dong_xu()\n",
    "        if m1 != m2:\n",
    "            break\n",
    "    return m1\n",
    "\n",
    "tan_xuat(tung_dong_xu_can_bang, 10000)"
   ]
  },
  {
   "cell_type": "markdown",
   "metadata": {},
   "source": [
    "## <a name=\"gia_ngau_nhien\"/>Các bộ sinh số giả ngẫu nhiên"
   ]
  },
  {
   "cell_type": "markdown",
   "metadata": {},
   "source": [
    "### Thuật toán LCG"
   ]
  },
  {
   "cell_type": "code",
   "execution_count": 7,
   "metadata": {},
   "outputs": [],
   "source": [
    "# Algorithm LCG\n",
    "# Input:\n",
    "#   N (output sequence length)\n",
    "#   m > 1 (modulus)\n",
    "#   a ∈ {1, 2, . . . , m − 1} (multiplier)\n",
    "#   c ∈ {0, 1, . . . , m − 1} (increment)\n",
    "#   X0 ∈ {0, 1, . . . , m − 1} (seed)\n",
    "# Output: a sequence X1, X2, X3, . . . of pseudo random numbers\n",
    "def LCG(N, m, a, c, X0=0):\n",
    "    X = np.zeros((N,), dtype=\"int64\")\n",
    "    Xn = X0\n",
    "    for n in range(N):\n",
    "        Xn = (a*Xn + c) % m\n",
    "        X[n] = Xn\n",
    "    return X"
   ]
  },
  {
   "cell_type": "code",
   "execution_count": 8,
   "metadata": {},
   "outputs": [
    {
     "data": {
      "text/html": [
       "<div>\n",
       "<style scoped>\n",
       "    .dataframe tbody tr th:only-of-type {\n",
       "        vertical-align: middle;\n",
       "    }\n",
       "\n",
       "    .dataframe tbody tr th {\n",
       "        vertical-align: top;\n",
       "    }\n",
       "\n",
       "    .dataframe thead th {\n",
       "        text-align: right;\n",
       "    }\n",
       "</style>\n",
       "<table border=\"1\" class=\"dataframe\">\n",
       "  <thead>\n",
       "    <tr style=\"text-align: right;\">\n",
       "      <th></th>\n",
       "      <th>$n$</th>\n",
       "      <th>$X_n$</th>\n",
       "    </tr>\n",
       "  </thead>\n",
       "  <tbody>\n",
       "    <tr>\n",
       "      <th>0</th>\n",
       "      <td>1</td>\n",
       "      <td>1</td>\n",
       "    </tr>\n",
       "    <tr>\n",
       "      <th>1</th>\n",
       "      <td>2</td>\n",
       "      <td>6</td>\n",
       "    </tr>\n",
       "    <tr>\n",
       "      <th>2</th>\n",
       "      <td>3</td>\n",
       "      <td>7</td>\n",
       "    </tr>\n",
       "    <tr>\n",
       "      <th>3</th>\n",
       "      <td>4</td>\n",
       "      <td>4</td>\n",
       "    </tr>\n",
       "    <tr>\n",
       "      <th>4</th>\n",
       "      <td>5</td>\n",
       "      <td>5</td>\n",
       "    </tr>\n",
       "    <tr>\n",
       "      <th>5</th>\n",
       "      <td>6</td>\n",
       "      <td>2</td>\n",
       "    </tr>\n",
       "    <tr>\n",
       "      <th>6</th>\n",
       "      <td>7</td>\n",
       "      <td>3</td>\n",
       "    </tr>\n",
       "    <tr>\n",
       "      <th>7</th>\n",
       "      <td>8</td>\n",
       "      <td>0</td>\n",
       "    </tr>\n",
       "    <tr>\n",
       "      <th>8</th>\n",
       "      <td>9</td>\n",
       "      <td>1</td>\n",
       "    </tr>\n",
       "    <tr>\n",
       "      <th>9</th>\n",
       "      <td>10</td>\n",
       "      <td>6</td>\n",
       "    </tr>\n",
       "  </tbody>\n",
       "</table>\n",
       "</div>"
      ],
      "text/plain": [
       "   $n$  $X_n$\n",
       "0    1      1\n",
       "1    2      6\n",
       "2    3      7\n",
       "3    4      4\n",
       "4    5      5\n",
       "5    6      2\n",
       "6    7      3\n",
       "7    8      0\n",
       "8    9      1\n",
       "9   10      6"
      ]
     },
     "execution_count": 8,
     "metadata": {},
     "output_type": "execute_result"
    }
   ],
   "source": [
    "N = 10\n",
    "x = LCG(N, m=8, a=5, c=1, X0=0)\n",
    "pd.DataFrame({\"$n$\": range(1, N+1), \"$X_n$\": x})"
   ]
  },
  {
   "cell_type": "code",
   "execution_count": 9,
   "metadata": {},
   "outputs": [
    {
     "name": "stdout",
     "output_type": "stream",
     "text": [
      "10000\n"
     ]
    }
   ],
   "source": [
    "x = LCG(N=10000, m=2**31, a=1103515245, c=12345, X0=0)\n",
    "print(len(np.unique(x)))"
   ]
  },
  {
   "cell_type": "code",
   "execution_count": 10,
   "metadata": {},
   "outputs": [
    {
     "name": "stdout",
     "output_type": "stream",
     "text": [
      "1024\n",
      "[123 346 717 324 111 574 481 712 931 354]\n",
      "[123 346 717 324 111 574 481 712 931 354]\n"
     ]
    }
   ],
   "source": [
    "x = LCG(N=10000, m=1024, a=493, c=123, X0=0)\n",
    "print(len(np.unique(x)))\n",
    "print(x[:10])\n",
    "print(x[1024 : 1024 + 10])"
   ]
  },
  {
   "cell_type": "markdown",
   "metadata": {},
   "source": [
    "### Chất lượng của các bộ sinh số giả ngẫu nhiên"
   ]
  },
  {
   "cell_type": "markdown",
   "metadata": {},
   "source": [
    "Cần chọn $m, a, c$ phù hợp để có bộ sinh \"tốt\".\n",
    "\n",
    "Xem [Wikipedia - Linear congruential generator](https://en.wikipedia.org/wiki/Linear_congruential_generator)."
   ]
  },
  {
   "cell_type": "code",
   "execution_count": 11,
   "metadata": {},
   "outputs": [],
   "source": [
    "N = 1000\n",
    "\n",
    "x = [None for _ in range(4)]\n",
    "x[0] = np.random.uniform(size=N)\n",
    "x[1] = LCG(N, m=1024, a=493, c=123)/1024\n",
    "x[2] = LCG(N, m=2**16+1, a=75, c=74)/(2**16 + 1)\n",
    "x[3] = LCG(N, m=2**31, a=1103515245, c=12345)/2**31"
   ]
  },
  {
   "cell_type": "code",
   "execution_count": 12,
   "metadata": {},
   "outputs": [
    {
     "data": {
      "image/png": "[encoded data removed]",
      "text/plain": [
       "<Figure size 640x480 with 4 Axes>"
      ]
     },
     "metadata": {},
     "output_type": "display_data"
    }
   ],
   "source": [
    "# histogram\n",
    "_, axes = plt.subplots(2, 2)\n",
    "for xi, ax in zip(x, axes.flatten()):\n",
    "    ax.hist(xi, density=True, edgecolor=\"black\", linewidth=0.5)\n",
    "\n",
    "#plt.savefig(\"PRNG_hist.pdf\", bbox_inches=\"tight\")\n",
    "plt.show()"
   ]
  },
  {
   "cell_type": "code",
   "execution_count": 13,
   "metadata": {},
   "outputs": [
    {
     "data": {
      "image/png": "[encoded data removed]",
      "text/plain": [
       "<Figure size 640x480 with 4 Axes>"
      ]
     },
     "metadata": {},
     "output_type": "display_data"
    }
   ],
   "source": [
    "# correlation\n",
    "_, axes = plt.subplots(2, 2)\n",
    "for xi, ax in zip(x, axes.flatten()):\n",
    "    ax.scatter(xi[:N-1], xi[1:], marker=\".\", s=1)\n",
    "    ax.set_aspect('equal', 'box')\n",
    "\n",
    "#plt.savefig(\"PRNG_cor.pdf\", bbox_inches=\"tight\")\n",
    "plt.show()"
   ]
  },
  {
   "cell_type": "markdown",
   "metadata": {},
   "source": [
    "Xem thêm: [Python random](https://docs.python.org/3/library/random.html) và [NumPy random](https://numpy.org/doc/stable/reference/random/index.html)."
   ]
  },
  {
   "cell_type": "markdown",
   "metadata": {},
   "source": [
    "## <a name=\"roi_rac\"/>Sinh biến ngẫu nhiên rời rạc"
   ]
  },
  {
   "cell_type": "markdown",
   "metadata": {},
   "source": [
    "Ví dụ sinh biến ngẫu nhiên có phân phối hình học với tham số $p$."
   ]
  },
  {
   "cell_type": "code",
   "execution_count": 14,
   "metadata": {},
   "outputs": [
    {
     "data": {
      "text/html": [
       "<div>\n",
       "<style scoped>\n",
       "    .dataframe tbody tr th:only-of-type {\n",
       "        vertical-align: middle;\n",
       "    }\n",
       "\n",
       "    .dataframe tbody tr th {\n",
       "        vertical-align: top;\n",
       "    }\n",
       "\n",
       "    .dataframe thead th {\n",
       "        text-align: right;\n",
       "    }\n",
       "</style>\n",
       "<table border=\"1\" class=\"dataframe\">\n",
       "  <thead>\n",
       "    <tr style=\"text-align: right;\">\n",
       "      <th></th>\n",
       "      <th>$i$</th>\n",
       "      <th>$P(X=i)$</th>\n",
       "      <th>Freq</th>\n",
       "    </tr>\n",
       "  </thead>\n",
       "  <tbody>\n",
       "    <tr>\n",
       "      <th>0</th>\n",
       "      <td>1</td>\n",
       "      <td>0.80000</td>\n",
       "      <td>0.79979</td>\n",
       "    </tr>\n",
       "    <tr>\n",
       "      <th>1</th>\n",
       "      <td>2</td>\n",
       "      <td>0.16000</td>\n",
       "      <td>0.15990</td>\n",
       "    </tr>\n",
       "    <tr>\n",
       "      <th>2</th>\n",
       "      <td>3</td>\n",
       "      <td>0.03200</td>\n",
       "      <td>0.03248</td>\n",
       "    </tr>\n",
       "    <tr>\n",
       "      <th>3</th>\n",
       "      <td>4</td>\n",
       "      <td>0.00640</td>\n",
       "      <td>0.00641</td>\n",
       "    </tr>\n",
       "    <tr>\n",
       "      <th>4</th>\n",
       "      <td>5</td>\n",
       "      <td>0.00128</td>\n",
       "      <td>0.00113</td>\n",
       "    </tr>\n",
       "    <tr>\n",
       "      <th>5</th>\n",
       "      <td>6</td>\n",
       "      <td>0.00026</td>\n",
       "      <td>0.00027</td>\n",
       "    </tr>\n",
       "    <tr>\n",
       "      <th>6</th>\n",
       "      <td>7</td>\n",
       "      <td>0.00005</td>\n",
       "      <td>0.00002</td>\n",
       "    </tr>\n",
       "  </tbody>\n",
       "</table>\n",
       "</div>"
      ],
      "text/plain": [
       "   $i$  $P(X=i)$     Freq\n",
       "0    1   0.80000  0.79979\n",
       "1    2   0.16000  0.15990\n",
       "2    3   0.03200  0.03248\n",
       "3    4   0.00640  0.00641\n",
       "4    5   0.00128  0.00113\n",
       "5    6   0.00026  0.00027\n",
       "6    7   0.00005  0.00002"
      ]
     },
     "execution_count": 14,
     "metadata": {},
     "output_type": "execute_result"
    }
   ],
   "source": [
    "p = 0.2\n",
    "N = 10**5\n",
    "\n",
    "x = np.ceil(np.log(1 - np.random.random(size=N))/np.log(p))\n",
    "i = np.arange(1, np.max(x) + 1)\n",
    "\n",
    "counter = Counter(x)\n",
    "m = int(max(counter.keys()))\n",
    "i_list = range(1, m + 1)\n",
    "pd.DataFrame({\n",
    "    \"$i$\": i_list,\n",
    "    \"$P(X=i)$\": [round(p**(i - 1)*(1 - p), 5) for i in i_list],\n",
    "    \"Freq\": [round(counter[i]/N, 5) for i in i_list]\n",
    "})"
   ]
  },
  {
   "cell_type": "markdown",
   "metadata": {},
   "source": [
    "## <a name=\"bien_doi_nguoc\"/>Phương pháp biến đổi ngược"
   ]
  },
  {
   "cell_type": "markdown",
   "metadata": {},
   "source": [
    "Ví dụ sinh biến ngẫu nhiên có phân phối mũ với tham số $\\lambda$."
   ]
  },
  {
   "cell_type": "code",
   "execution_count": 15,
   "metadata": {},
   "outputs": [
    {
     "data": {
      "image/png": "[encoded data removed]",
      "text/plain": [
       "<Figure size 640x480 with 1 Axes>"
      ]
     },
     "metadata": {},
     "output_type": "display_data"
    }
   ],
   "source": [
    "N = 10**5\n",
    "lamb = 0.1\n",
    "\n",
    "x = -np.log(1 - np.random.uniform(size=N))/lamb\n",
    "\n",
    "t = np.linspace(0, np.max(x), num=100)\n",
    "plt.hist(x, bins=100, density=True)\n",
    "plt.xlim(0, 50)\n",
    "plt.ylim(0, 0.1)\n",
    "plt.plot(t, lamb*np.exp(-lamb*t), \"red\")\n",
    "\n",
    "plt.show()"
   ]
  },
  {
   "cell_type": "markdown",
   "metadata": {},
   "source": [
    "Ví dụ sinh biến ngẫu nhiên nhận giá trị trong khoảng $[0, 1]$ với hàm mật độ $f(x) = 3x^2$."
   ]
  },
  {
   "cell_type": "code",
   "execution_count": 16,
   "metadata": {},
   "outputs": [
    {
     "data": {
      "image/png": "[encoded data removed]",
      "text/plain": [
       "<Figure size 640x480 with 1 Axes>"
      ]
     },
     "metadata": {},
     "output_type": "display_data"
    }
   ],
   "source": [
    "N = 10**5\n",
    "sigma = 1\n",
    "\n",
    "x = np.random.uniform(size=N)**(1/3)\n",
    "t = np.linspace(0, np.max(x), num=100)\n",
    "\n",
    "plt.hist(x, bins=100, density=True)\n",
    "plt.plot(t, 3*t**2, \"red\")\n",
    "\n",
    "plt.show()"
   ]
  },
  {
   "cell_type": "markdown",
   "metadata": {},
   "source": [
    "## <a name=\"loai_bo\"/>Phương pháp lấy mẫu loại bỏ"
   ]
  },
  {
   "cell_type": "markdown",
   "metadata": {},
   "source": [
    "### <a name=\"loai_bo_co_ban\"/>Lấy mẫu loại bỏ cơ bản"
   ]
  },
  {
   "cell_type": "code",
   "execution_count": 17,
   "metadata": {},
   "outputs": [],
   "source": [
    "# Algorithm BRS\n",
    "# Input:\n",
    "#   N: output sequence length\n",
    "#   g: sampler for the proposal density\n",
    "#   p: the acceptance probability\n",
    "# Output: a tuple (X, T)\n",
    "#   X: sequence X1, X2, X3, . . . iid with density f\n",
    "#   T: total number of proposals\n",
    "def BSR(N, g, p):\n",
    "    T = 0\n",
    "    X = []\n",
    "    i = 0\n",
    "    while i < N:\n",
    "        T = T + 1\n",
    "        Xn = g()\n",
    "        Un = np.random.uniform(size=1)\n",
    "        if Un <= p(Xn):\n",
    "            i = i + 1\n",
    "            X.append(Xn)\n",
    "\n",
    "    return (np.array(X), T)"
   ]
  },
  {
   "cell_type": "markdown",
   "metadata": {},
   "source": [
    "Ví dụ phân phối nửa đường tròn Wigner."
   ]
  },
  {
   "cell_type": "code",
   "execution_count": 18,
   "metadata": {},
   "outputs": [
    {
     "name": "stdout",
     "output_type": "stream",
     "text": [
      "Acceptance rate (Z): 0.7871\n",
      "0.7853981633974483\n"
     ]
    },
    {
     "data": {
      "image/png": "[encoded data removed]",
      "text/plain": [
       "<Figure size 640x480 with 1 Axes>"
      ]
     },
     "metadata": {},
     "output_type": "display_data"
    }
   ],
   "source": [
    "g = lambda: np.random.uniform(-1, 1, size=1)\n",
    "p = lambda x: np.sqrt(1 - x**2)\n",
    "\n",
    "N = 10**5\n",
    "\n",
    "x, T = BSR(N, g, p)\n",
    "print(\"Acceptance rate (Z):\", round(N/T, 4))\n",
    "print(np.pi/4)\n",
    "\n",
    "t = np.linspace(-1, 1, num=100)\n",
    "\n",
    "plt.hist(x, bins=100, density=True)\n",
    "plt.plot(t, 2/np.pi*np.sqrt(1 - t**2), \"red\")\n",
    "plt.gca().set_aspect('equal')\n",
    "\n",
    "plt.show()"
   ]
  },
  {
   "cell_type": "markdown",
   "metadata": {},
   "source": [
    "### <a name=\"loai_bo_theo_khuon\"/>Lấy mẫu loại bỏ theo khuôn"
   ]
  },
  {
   "cell_type": "code",
   "execution_count": 19,
   "metadata": {},
   "outputs": [],
   "source": [
    "# Algorithm ERS\n",
    "# Input:\n",
    "#   N: output sequence length\n",
    "#   f: the non-normalised target density\n",
    "#   gs: sampler for the proposal density\n",
    "#   g: the proposal density\n",
    "#   c > 0: such that f(x) <= c g(x) for all x\n",
    "# Output: a tuple (X, T)\n",
    "#   X: sequence X1, X2, X3, . . . iid with density f tiddle\n",
    "#   T: total number of proposals\n",
    "def ESR(N, f, gs, g, c):\n",
    "    T = 0\n",
    "    X = []\n",
    "    i = 0\n",
    "    while i < N:\n",
    "        T = T + 1\n",
    "        Xn = gs()\n",
    "        Un = np.random.uniform(size=1)\n",
    "        if c*g(Xn)*Un <= f(Xn):\n",
    "            i = i + 1\n",
    "            X.append(Xn)\n",
    "\n",
    "    return (np.array(X), T)"
   ]
  },
  {
   "cell_type": "markdown",
   "metadata": {},
   "source": [
    "Ví dụ phân phối nửa chuẩn."
   ]
  },
  {
   "cell_type": "code",
   "execution_count": 20,
   "metadata": {},
   "outputs": [
    {
     "name": "stdout",
     "output_type": "stream",
     "text": [
      "Acceptance rate (Z): 0.7611\n",
      "0.7601734505331403\n"
     ]
    },
    {
     "data": {
      "image/png": "[encoded data removed]",
      "text/plain": [
       "<Figure size 640x480 with 1 Axes>"
      ]
     },
     "metadata": {},
     "output_type": "display_data"
    }
   ],
   "source": [
    "lamb = 1\n",
    "f = lambda x: 2/np.sqrt(2*np.pi)*np.exp(-x**2/2) if x >= 0 else 0\n",
    "gs = lambda: np.random.exponential(lamb, size=1)\n",
    "g = lambda x: lamb*np.exp(-lamb*x)\n",
    "c = np.sqrt(2/(np.pi*lamb**2))*np.exp(lamb**2/2)\n",
    "\n",
    "x, T = ESR(N, f, gs, g, c)\n",
    "print(\"Acceptance rate (Z):\", round(N/T, 4))\n",
    "print(1/c)\n",
    "\n",
    "t = np.linspace(0, np.max(x), num=100)\n",
    "\n",
    "plt.hist(x, bins=100, density=True)\n",
    "plt.plot(t, 2/np.sqrt(2*np.pi)*np.exp(-t**2/2), \"red\")\n",
    "\n",
    "plt.show()"
   ]
  },
  {
   "cell_type": "code",
   "execution_count": 21,
   "metadata": {},
   "outputs": [
    {
     "data": {
      "image/png": "[encoded data removed]",
      "text/plain": [
       "<Figure size 640x480 with 1 Axes>"
      ]
     },
     "metadata": {},
     "output_type": "display_data"
    }
   ],
   "source": [
    "x = np.abs(np.random.normal(size=N))\n",
    "\n",
    "t = np.linspace(0, np.max(x), num=100)\n",
    "\n",
    "plt.hist(x, bins=100, density=True)\n",
    "plt.plot(t, 2/np.sqrt(2*np.pi)*np.exp(-t**2/2), \"red\")\n",
    "\n",
    "plt.show()"
   ]
  },
  {
   "cell_type": "code",
   "execution_count": 22,
   "metadata": {},
   "outputs": [
    {
     "name": "stdout",
     "output_type": "stream",
     "text": [
      "Acceptance rate (Z): 0.4998\n",
      "0.4998125702861427\n"
     ]
    },
    {
     "data": {
      "image/png": "[encoded data removed]",
      "text/plain": [
       "<Figure size 640x480 with 1 Axes>"
      ]
     },
     "metadata": {},
     "output_type": "display_data"
    }
   ],
   "source": [
    "def half_normal(N):\n",
    "    T = 0\n",
    "    X = []\n",
    "    i = 0\n",
    "    while i < N:\n",
    "        Xn = np.random.normal(size=1)\n",
    "        T = T + 1\n",
    "        if Xn >= 0:\n",
    "            i = i + 1\n",
    "            X.append(Xn)\n",
    "    \n",
    "    return (np.array(X), T)\n",
    "\n",
    "x, T = half_normal(N)\n",
    "print(\"Acceptance rate (Z):\", round(N/T, 4))\n",
    "print(N/T)\n",
    "\n",
    "t = np.linspace(0, np.max(x), num=100)\n",
    "\n",
    "plt.hist(x, bins=100, density=True)\n",
    "plt.plot(t, 2/np.sqrt(2*np.pi)*np.exp(-t**2/2), \"red\")\n",
    "\n",
    "plt.show()"
   ]
  },
  {
   "cell_type": "markdown",
   "metadata": {},
   "source": [
    "### <a name=\"loai_bo_dieu_kien\"/>Lấy mẫu cho phân phối có điều kiện"
   ]
  },
  {
   "cell_type": "markdown",
   "metadata": {},
   "source": [
    "Sinh $X$ chuẩn tắc với điều kiện $X \\ge a$."
   ]
  },
  {
   "cell_type": "code",
   "execution_count": 23,
   "metadata": {},
   "outputs": [
    {
     "data": {
      "text/html": [
       "<div>\n",
       "<style scoped>\n",
       "    .dataframe tbody tr th:only-of-type {\n",
       "        vertical-align: middle;\n",
       "    }\n",
       "\n",
       "    .dataframe tbody tr th {\n",
       "        vertical-align: top;\n",
       "    }\n",
       "\n",
       "    .dataframe thead th {\n",
       "        text-align: right;\n",
       "    }\n",
       "</style>\n",
       "<table border=\"1\" class=\"dataframe\">\n",
       "  <thead>\n",
       "    <tr style=\"text-align: right;\">\n",
       "      <th></th>\n",
       "      <th>$a$</th>\n",
       "      <th>$E(N_a)$</th>\n",
       "    </tr>\n",
       "  </thead>\n",
       "  <tbody>\n",
       "    <tr>\n",
       "      <th>0</th>\n",
       "      <td>1</td>\n",
       "      <td>6</td>\n",
       "    </tr>\n",
       "    <tr>\n",
       "      <th>1</th>\n",
       "      <td>2</td>\n",
       "      <td>44</td>\n",
       "    </tr>\n",
       "    <tr>\n",
       "      <th>2</th>\n",
       "      <td>3</td>\n",
       "      <td>741</td>\n",
       "    </tr>\n",
       "    <tr>\n",
       "      <th>3</th>\n",
       "      <td>4</td>\n",
       "      <td>31574</td>\n",
       "    </tr>\n",
       "    <tr>\n",
       "      <th>4</th>\n",
       "      <td>5</td>\n",
       "      <td>3488556</td>\n",
       "    </tr>\n",
       "    <tr>\n",
       "      <th>5</th>\n",
       "      <td>6</td>\n",
       "      <td>1013594635</td>\n",
       "    </tr>\n",
       "  </tbody>\n",
       "</table>\n",
       "</div>"
      ],
      "text/plain": [
       "   $a$    $E(N_a)$\n",
       "0    1           6\n",
       "1    2          44\n",
       "2    3         741\n",
       "3    4       31574\n",
       "4    5     3488556\n",
       "5    6  1013594635"
      ]
     },
     "execution_count": 23,
     "metadata": {},
     "output_type": "execute_result"
    }
   ],
   "source": [
    "a = np.arange(1, 7)\n",
    "ENa = np.int_(np.round(1/(1 - stats.norm.cdf(a))))\n",
    "pd.DataFrame({\"$a$\": a, \"$E(N_a)$\": ENa})"
   ]
  },
  {
   "cell_type": "code",
   "execution_count": 24,
   "metadata": {},
   "outputs": [
    {
     "data": {
      "text/html": [
       "<div>\n",
       "<style scoped>\n",
       "    .dataframe tbody tr th:only-of-type {\n",
       "        vertical-align: middle;\n",
       "    }\n",
       "\n",
       "    .dataframe tbody tr th {\n",
       "        vertical-align: top;\n",
       "    }\n",
       "\n",
       "    .dataframe thead th {\n",
       "        text-align: right;\n",
       "    }\n",
       "</style>\n",
       "<table border=\"1\" class=\"dataframe\">\n",
       "  <thead>\n",
       "    <tr style=\"text-align: right;\">\n",
       "      <th></th>\n",
       "      <th>$a$</th>\n",
       "      <th>$E(N_a)$</th>\n",
       "      <th>Average</th>\n",
       "    </tr>\n",
       "  </thead>\n",
       "  <tbody>\n",
       "    <tr>\n",
       "      <th>0</th>\n",
       "      <td>1</td>\n",
       "      <td>1.5251</td>\n",
       "      <td>1.5094</td>\n",
       "    </tr>\n",
       "    <tr>\n",
       "      <th>1</th>\n",
       "      <td>2</td>\n",
       "      <td>1.1866</td>\n",
       "      <td>1.1824</td>\n",
       "    </tr>\n",
       "    <tr>\n",
       "      <th>2</th>\n",
       "      <td>3</td>\n",
       "      <td>1.0944</td>\n",
       "      <td>1.0938</td>\n",
       "    </tr>\n",
       "    <tr>\n",
       "      <th>3</th>\n",
       "      <td>4</td>\n",
       "      <td>1.0564</td>\n",
       "      <td>1.0578</td>\n",
       "    </tr>\n",
       "    <tr>\n",
       "      <th>4</th>\n",
       "      <td>5</td>\n",
       "      <td>1.0373</td>\n",
       "      <td>1.0370</td>\n",
       "    </tr>\n",
       "    <tr>\n",
       "      <th>5</th>\n",
       "      <td>6</td>\n",
       "      <td>1.0264</td>\n",
       "      <td>1.0291</td>\n",
       "    </tr>\n",
       "  </tbody>\n",
       "</table>\n",
       "</div>"
      ],
      "text/plain": [
       "   $a$  $E(N_a)$  Average\n",
       "0    1    1.5251   1.5094\n",
       "1    2    1.1866   1.1824\n",
       "2    3    1.0944   1.0938\n",
       "3    4    1.0564   1.0578\n",
       "4    5    1.0373   1.0370\n",
       "5    6    1.0264   1.0291"
      ]
     },
     "execution_count": 24,
     "metadata": {},
     "output_type": "execute_result"
    }
   ],
   "source": [
    "a = np.arange(1, 7)\n",
    "ENa = np.round(np.exp(-a**2/2)/(a*np.sqrt(2*np.pi)*(1 - stats.norm.cdf(a))), 4)\n",
    "ENa_e = []\n",
    "for ai in a:\n",
    "    f = lambda x: np.exp(-x**2/2) * (1 if x >= ai else 0)\n",
    "    gs = lambda: np.random.exponential(1/ai, size=1) + ai\n",
    "    g = lambda x: ai*np.exp(-ai*(x - ai)) * (1 if x >= ai else 0)\n",
    "    c = np.exp(-ai**2/2)/ai\n",
    "    N = 10**4\n",
    "\n",
    "    _, T = ESR(N, f, gs, g, c)\n",
    "    ENa_e.append(round(T/N, 4))\n",
    "\n",
    "pd.DataFrame({\"$a$\": a, \"$E(N_a)$\": ENa, \"Average\": ENa_e})"
   ]
  }
 ],
 "metadata": {
  "kernelspec": {
   "display_name": "base",
   "language": "python",
   "name": "python3"
  },
  "language_info": {
   "codemirror_mode": {
    "name": "ipython",
    "version": 3
   },
   "file_extension": ".py",
   "mimetype": "text/x-python",
   "name": "python",
   "nbconvert_exporter": "python",
   "pygments_lexer": "ipython3",
   "version": "3.10.11"
  }
 },
 "nbformat": 4,
 "nbformat_minor": 4
}
